{
 "cells": [
  {
   "cell_type": "markdown",
   "id": "5054e0d8",
   "metadata": {},
   "source": [
    "# Control flow/logic\n",
    "### Control flow statements literally control the flow of your code!\n",
    "There are a few basic types of control flow statements that we will learn. These are as follows: \n",
    "- **if:** do something _if_ some condition is `True`\n",
    "\n",
    "Let's look at some examples. **Notice that indentation (whitespace preceding code) matters in Python**! Blocks of text following an `if` statement must be indented to run properly. You can think of the indent as saying \"do\"."
   ]
  },
  {
   "cell_type": "markdown",
   "id": "a09cfc7f",
   "metadata": {},
   "source": [
    "## What is a boolean?\n",
    "\n",
    "A boolean is a special data type in python that has two possible values, `True` or `False`.\n",
    "\n",
    "When we type a statement in python that results in a Boolean, we are essentially asking if that statement is `True` or `False`. For example"
   ]
  },
  {
   "cell_type": "code",
   "execution_count": 1,
   "id": "55937607",
   "metadata": {},
   "outputs": [
    {
     "name": "stdout",
     "output_type": "stream",
     "text": [
      "True\n",
      "False\n"
     ]
    }
   ],
   "source": [
    "number = 5\n",
    "\n",
    "print(number > 2)\n",
    "print(number < 2)"
   ]
  },
  {
   "cell_type": "code",
   "execution_count": null,
   "id": "f50db4e8",
   "metadata": {},
   "outputs": [],
   "source": []
  },
  {
   "cell_type": "markdown",
   "id": "aa8686b6",
   "metadata": {},
   "source": [
    "This doesn't just hold for numbers, we can check if a variable is equal to a string as well. Remember that when we want to check if two things are equal, we use `==`."
   ]
  },
  {
   "cell_type": "code",
   "execution_count": 2,
   "id": "f1d5a538",
   "metadata": {},
   "outputs": [
    {
     "name": "stdout",
     "output_type": "stream",
     "text": [
      "False\n"
     ]
    }
   ],
   "source": [
    "chalkboard_text = \"The Simpsons\"\n",
    "\n",
    "print(chalkboard_text == \"Futurama\")"
   ]
  },
  {
   "cell_type": "code",
   "execution_count": 3,
   "id": "fe2eada3",
   "metadata": {},
   "outputs": [
    {
     "name": "stdout",
     "output_type": "stream",
     "text": [
      "False\n"
     ]
    }
   ],
   "source": [
    "print(4 == 5)"
   ]
  },
  {
   "cell_type": "markdown",
   "id": "2bf44324",
   "metadata": {},
   "source": [
    "This will come in handy today as we learn how to write code that only runs sometimes to handle multiple cases."
   ]
  },
  {
   "cell_type": "markdown",
   "id": "f5e36376",
   "metadata": {},
   "source": [
    "### `and` and `or`\n",
    "\n",
    "You can make complex statements that result in Booleans by using `and` and `or`. These work as follows:"
   ]
  },
  {
   "cell_type": "code",
   "execution_count": 4,
   "id": "a2ff99e6",
   "metadata": {},
   "outputs": [],
   "source": [
    "number = 5"
   ]
  },
  {
   "cell_type": "code",
   "execution_count": 5,
   "id": "ec35a42e",
   "metadata": {},
   "outputs": [
    {
     "name": "stdout",
     "output_type": "stream",
     "text": [
      "True\n"
     ]
    }
   ],
   "source": [
    "print(number > 0 and number == 5)"
   ]
  },
  {
   "cell_type": "code",
   "execution_count": 6,
   "id": "57f91fcf",
   "metadata": {},
   "outputs": [
    {
     "name": "stdout",
     "output_type": "stream",
     "text": [
      "False\n"
     ]
    }
   ],
   "source": [
    "print(number > 0 and number > 10)"
   ]
  },
  {
   "cell_type": "code",
   "execution_count": 7,
   "id": "d72714a6",
   "metadata": {},
   "outputs": [
    {
     "name": "stdout",
     "output_type": "stream",
     "text": [
      "False\n"
     ]
    }
   ],
   "source": [
    "print(number < 0 and number > 10)"
   ]
  },
  {
   "cell_type": "code",
   "execution_count": 8,
   "id": "9c531ddc",
   "metadata": {},
   "outputs": [
    {
     "name": "stdout",
     "output_type": "stream",
     "text": [
      "True\n"
     ]
    }
   ],
   "source": [
    "print(number > 0 or number == 5)"
   ]
  },
  {
   "cell_type": "code",
   "execution_count": 9,
   "id": "d548dfc6",
   "metadata": {},
   "outputs": [
    {
     "name": "stdout",
     "output_type": "stream",
     "text": [
      "True\n"
     ]
    }
   ],
   "source": [
    "print(number > 0 or number > 10)"
   ]
  },
  {
   "cell_type": "code",
   "execution_count": 10,
   "id": "20d39bd5",
   "metadata": {},
   "outputs": [
    {
     "name": "stdout",
     "output_type": "stream",
     "text": [
      "False\n"
     ]
    }
   ],
   "source": [
    "print(number < 0 or number > 10)"
   ]
  },
  {
   "cell_type": "code",
   "execution_count": 17,
   "id": "2fe42700-885a-4098-bc40-1b24669826d6",
   "metadata": {
    "scrolled": true
   },
   "outputs": [
    {
     "data": {
      "text/plain": [
       "array([10.01, 10.02, 10.03, 10.04, 10.05, 10.06, 10.07, 10.08, 10.09,\n",
       "       10.1 , 10.11, 10.12, 10.13, 10.14, 10.15, 10.16, 10.17, 10.18,\n",
       "       10.19, 10.2 , 10.21, 10.22, 10.23, 10.24, 10.25, 10.26, 10.27,\n",
       "       10.28, 10.29, 10.3 , 10.31, 10.32, 10.33, 10.34, 10.35, 10.36,\n",
       "       10.37, 10.38, 10.39, 10.4 , 10.41, 10.42, 10.43, 10.44, 10.45,\n",
       "       10.46, 10.47, 10.48, 10.49, 10.5 , 10.51, 10.52, 10.53, 10.54,\n",
       "       10.55, 10.56, 10.57, 10.58, 10.59, 10.6 , 10.61, 10.62, 10.63,\n",
       "       10.64, 10.65, 10.66, 10.67, 10.68, 10.69, 10.7 , 10.71, 10.72,\n",
       "       10.73, 10.74, 10.75, 10.76, 10.77, 10.78, 10.79, 10.8 , 10.81,\n",
       "       10.82, 10.83, 10.84, 10.85, 10.86, 10.87, 10.88, 10.89, 10.9 ,\n",
       "       10.91, 10.92, 10.93, 10.94, 10.95, 10.96, 10.97, 10.98, 10.99,\n",
       "       11.  , 11.01, 11.02, 11.03, 11.04, 11.05, 11.06, 11.07, 11.08,\n",
       "       11.09, 11.1 , 11.11, 11.12, 11.13, 11.14, 11.15, 11.16, 11.17,\n",
       "       11.18, 11.19, 11.2 , 11.21, 11.22, 11.23, 11.24, 11.25, 11.26,\n",
       "       11.27, 11.28, 11.29, 11.3 , 11.31, 11.32, 11.33, 11.34, 11.35,\n",
       "       11.36, 11.37, 11.38, 11.39, 11.4 , 11.41, 11.42, 11.43, 11.44,\n",
       "       11.45, 11.46, 11.47, 11.48, 11.49, 11.5 , 11.51, 11.52, 11.53,\n",
       "       11.54, 11.55, 11.56, 11.57, 11.58, 11.59, 11.6 , 11.61, 11.62,\n",
       "       11.63, 11.64, 11.65, 11.66, 11.67, 11.68, 11.69, 11.7 , 11.71,\n",
       "       11.72, 11.73, 11.74, 11.75, 11.76, 11.77, 11.78, 11.79, 11.8 ,\n",
       "       11.81, 11.82, 11.83, 11.84, 11.85, 11.86, 11.87, 11.88, 11.89,\n",
       "       11.9 , 11.91, 11.92, 11.93, 11.94, 11.95, 11.96, 11.97, 11.98,\n",
       "       11.99, 12.  , 12.01, 12.02, 12.03, 12.04, 12.05, 12.06, 12.07,\n",
       "       12.08, 12.09, 12.1 , 12.11, 12.12, 12.13, 12.14, 12.15, 12.16,\n",
       "       12.17, 12.18, 12.19, 12.2 , 12.21, 12.22, 12.23, 12.24, 12.25,\n",
       "       12.26, 12.27, 12.28, 12.29, 12.3 , 12.31, 12.32, 12.33, 12.34,\n",
       "       12.35, 12.36, 12.37, 12.38, 12.39, 12.4 , 12.41, 12.42, 12.43,\n",
       "       12.44, 12.45, 12.46, 12.47, 12.48, 12.49, 12.5 , 12.51, 12.52,\n",
       "       12.53, 12.54, 12.55, 12.56, 12.57, 12.58, 12.59, 12.6 , 12.61,\n",
       "       12.62, 12.63, 12.64, 12.65, 12.66, 12.67, 12.68, 12.69, 12.7 ,\n",
       "       12.71, 12.72, 12.73, 12.74, 12.75, 12.76, 12.77, 12.78, 12.79,\n",
       "       12.8 , 12.81, 12.82, 12.83, 12.84, 12.85, 12.86, 12.87, 12.88,\n",
       "       12.89, 12.9 , 12.91, 12.92, 12.93, 12.94, 12.95, 12.96, 12.97,\n",
       "       12.98, 12.99, 13.  , 13.01, 13.02, 13.03, 13.04, 13.05, 13.06,\n",
       "       13.07, 13.08, 13.09, 13.1 , 13.11, 13.12, 13.13, 13.14, 13.15,\n",
       "       13.16, 13.17, 13.18, 13.19, 13.2 , 13.21, 13.22, 13.23, 13.24,\n",
       "       13.25, 13.26, 13.27, 13.28, 13.29, 13.3 , 13.31, 13.32, 13.33,\n",
       "       13.34, 13.35, 13.36, 13.37, 13.38, 13.39, 13.4 , 13.41, 13.42,\n",
       "       13.43, 13.44, 13.45, 13.46, 13.47, 13.48, 13.49, 13.5 , 13.51,\n",
       "       13.52, 13.53, 13.54, 13.55, 13.56, 13.57, 13.58, 13.59, 13.6 ,\n",
       "       13.61, 13.62, 13.63, 13.64, 13.65, 13.66, 13.67, 13.68, 13.69,\n",
       "       13.7 , 13.71, 13.72, 13.73, 13.74, 13.75, 13.76, 13.77, 13.78,\n",
       "       13.79, 13.8 , 13.81, 13.82, 13.83, 13.84, 13.85, 13.86, 13.87,\n",
       "       13.88, 13.89, 13.9 , 13.91, 13.92, 13.93, 13.94, 13.95, 13.96,\n",
       "       13.97, 13.98, 13.99, 14.  , 14.01, 14.02, 14.03, 14.04, 14.05,\n",
       "       14.06, 14.07, 14.08, 14.09, 14.1 , 14.11, 14.12, 14.13, 14.14,\n",
       "       14.15, 14.16, 14.17, 14.18, 14.19, 14.2 , 14.21, 14.22, 14.23,\n",
       "       14.24, 14.25, 14.26, 14.27, 14.28, 14.29, 14.3 , 14.31, 14.32,\n",
       "       14.33, 14.34, 14.35, 14.36, 14.37, 14.38, 14.39, 14.4 , 14.41,\n",
       "       14.42, 14.43, 14.44, 14.45, 14.46, 14.47, 14.48, 14.49, 14.5 ,\n",
       "       14.51, 14.52, 14.53, 14.54, 14.55, 14.56, 14.57, 14.58, 14.59,\n",
       "       14.6 , 14.61, 14.62, 14.63, 14.64, 14.65, 14.66, 14.67, 14.68,\n",
       "       14.69, 14.7 , 14.71, 14.72, 14.73, 14.74, 14.75, 14.76, 14.77,\n",
       "       14.78, 14.79, 14.8 , 14.81, 14.82, 14.83, 14.84, 14.85, 14.86,\n",
       "       14.87, 14.88, 14.89, 14.9 , 14.91, 14.92, 14.93, 14.94, 14.95,\n",
       "       14.96, 14.97, 14.98, 14.99, 15.  , 15.01, 15.02, 15.03, 15.04,\n",
       "       15.05, 15.06, 15.07, 15.08, 15.09, 15.1 , 15.11, 15.12, 15.13,\n",
       "       15.14, 15.15, 15.16, 15.17, 15.18, 15.19, 15.2 , 15.21, 15.22,\n",
       "       15.23, 15.24, 15.25, 15.26, 15.27, 15.28, 15.29, 15.3 , 15.31,\n",
       "       15.32, 15.33, 15.34, 15.35, 15.36, 15.37, 15.38, 15.39, 15.4 ,\n",
       "       15.41, 15.42, 15.43, 15.44, 15.45, 15.46, 15.47, 15.48, 15.49,\n",
       "       15.5 , 15.51, 15.52, 15.53, 15.54, 15.55, 15.56, 15.57, 15.58,\n",
       "       15.59, 15.6 , 15.61, 15.62, 15.63, 15.64, 15.65, 15.66, 15.67,\n",
       "       15.68, 15.69, 15.7 , 15.71, 15.72, 15.73, 15.74, 15.75, 15.76,\n",
       "       15.77, 15.78, 15.79, 15.8 , 15.81, 15.82, 15.83, 15.84, 15.85,\n",
       "       15.86, 15.87, 15.88, 15.89, 15.9 , 15.91, 15.92, 15.93, 15.94,\n",
       "       15.95, 15.96, 15.97, 15.98, 15.99, 16.  , 16.01, 16.02, 16.03,\n",
       "       16.04, 16.05, 16.06, 16.07, 16.08, 16.09, 16.1 , 16.11, 16.12,\n",
       "       16.13, 16.14, 16.15, 16.16, 16.17, 16.18, 16.19, 16.2 , 16.21,\n",
       "       16.22, 16.23, 16.24, 16.25, 16.26, 16.27, 16.28, 16.29, 16.3 ,\n",
       "       16.31, 16.32, 16.33, 16.34, 16.35, 16.36, 16.37, 16.38, 16.39,\n",
       "       16.4 , 16.41, 16.42, 16.43, 16.44, 16.45, 16.46, 16.47, 16.48,\n",
       "       16.49, 16.5 , 16.51, 16.52, 16.53, 16.54, 16.55, 16.56, 16.57,\n",
       "       16.58, 16.59, 16.6 , 16.61, 16.62, 16.63, 16.64, 16.65, 16.66,\n",
       "       16.67, 16.68, 16.69, 16.7 , 16.71, 16.72, 16.73, 16.74, 16.75,\n",
       "       16.76, 16.77, 16.78, 16.79, 16.8 , 16.81, 16.82, 16.83, 16.84,\n",
       "       16.85, 16.86, 16.87, 16.88, 16.89, 16.9 , 16.91, 16.92, 16.93,\n",
       "       16.94, 16.95, 16.96, 16.97, 16.98, 16.99, 17.  , 17.01, 17.02,\n",
       "       17.03, 17.04, 17.05, 17.06, 17.07, 17.08, 17.09, 17.1 , 17.11,\n",
       "       17.12, 17.13, 17.14, 17.15, 17.16, 17.17, 17.18, 17.19, 17.2 ,\n",
       "       17.21, 17.22, 17.23, 17.24, 17.25, 17.26, 17.27, 17.28, 17.29,\n",
       "       17.3 , 17.31, 17.32, 17.33, 17.34, 17.35, 17.36, 17.37, 17.38,\n",
       "       17.39, 17.4 , 17.41, 17.42, 17.43, 17.44, 17.45, 17.46, 17.47,\n",
       "       17.48, 17.49, 17.5 , 17.51, 17.52, 17.53, 17.54, 17.55, 17.56,\n",
       "       17.57, 17.58, 17.59, 17.6 , 17.61, 17.62, 17.63, 17.64, 17.65,\n",
       "       17.66, 17.67, 17.68, 17.69, 17.7 , 17.71, 17.72, 17.73, 17.74,\n",
       "       17.75, 17.76, 17.77, 17.78, 17.79, 17.8 , 17.81, 17.82, 17.83,\n",
       "       17.84, 17.85, 17.86, 17.87, 17.88, 17.89, 17.9 , 17.91, 17.92,\n",
       "       17.93, 17.94, 17.95, 17.96, 17.97, 17.98, 17.99, 18.  , 18.01,\n",
       "       18.02, 18.03, 18.04, 18.05, 18.06, 18.07, 18.08, 18.09, 18.1 ,\n",
       "       18.11, 18.12, 18.13, 18.14, 18.15, 18.16, 18.17, 18.18, 18.19,\n",
       "       18.2 , 18.21, 18.22, 18.23, 18.24, 18.25, 18.26, 18.27, 18.28,\n",
       "       18.29, 18.3 , 18.31, 18.32, 18.33, 18.34, 18.35, 18.36, 18.37,\n",
       "       18.38, 18.39, 18.4 , 18.41, 18.42, 18.43, 18.44, 18.45, 18.46,\n",
       "       18.47, 18.48, 18.49, 18.5 , 18.51, 18.52, 18.53, 18.54, 18.55,\n",
       "       18.56, 18.57, 18.58, 18.59, 18.6 , 18.61, 18.62, 18.63, 18.64,\n",
       "       18.65, 18.66, 18.67, 18.68, 18.69, 18.7 , 18.71, 18.72, 18.73,\n",
       "       18.74, 18.75, 18.76, 18.77, 18.78, 18.79, 18.8 , 18.81, 18.82,\n",
       "       18.83, 18.84, 18.85, 18.86, 18.87, 18.88, 18.89, 18.9 , 18.91,\n",
       "       18.92, 18.93, 18.94, 18.95, 18.96, 18.97, 18.98, 18.99, 19.  ,\n",
       "       19.01, 19.02, 19.03, 19.04, 19.05, 19.06, 19.07, 19.08, 19.09,\n",
       "       19.1 , 19.11, 19.12, 19.13, 19.14, 19.15, 19.16, 19.17, 19.18,\n",
       "       19.19, 19.2 , 19.21, 19.22, 19.23, 19.24, 19.25, 19.26, 19.27,\n",
       "       19.28, 19.29, 19.3 , 19.31, 19.32, 19.33, 19.34, 19.35, 19.36,\n",
       "       19.37, 19.38, 19.39, 19.4 , 19.41, 19.42, 19.43, 19.44, 19.45,\n",
       "       19.46, 19.47, 19.48, 19.49, 19.5 , 19.51, 19.52, 19.53, 19.54,\n",
       "       19.55, 19.56, 19.57, 19.58, 19.59, 19.6 , 19.61, 19.62, 19.63,\n",
       "       19.64, 19.65, 19.66, 19.67, 19.68, 19.69, 19.7 , 19.71, 19.72,\n",
       "       19.73, 19.74, 19.75, 19.76, 19.77, 19.78, 19.79, 19.8 , 19.81,\n",
       "       19.82, 19.83, 19.84, 19.85, 19.86, 19.87, 19.88, 19.89, 19.9 ,\n",
       "       19.91, 19.92, 19.93, 19.94, 19.95, 19.96, 19.97, 19.98, 19.99])"
      ]
     },
     "execution_count": 17,
     "metadata": {},
     "output_type": "execute_result"
    }
   ],
   "source": [
    "import numpy as np\n",
    "len(np.arange(0,1000, .01))\n",
    "my_array = np.arange(0,1000, .01)\n",
    "\n",
    "my_array[np.where((my_array > 10) & (my_array < 20))]\n"
   ]
  },
  {
   "cell_type": "code",
   "execution_count": 18,
   "id": "7f18b679-091b-4eb1-b084-216137876f60",
   "metadata": {},
   "outputs": [
    {
     "data": {
      "text/plain": [
       "array([0.0000e+00, 1.0000e-02, 2.0000e-02, ..., 9.9997e+02, 9.9998e+02,\n",
       "       9.9999e+02], shape=(100000,))"
      ]
     },
     "execution_count": 18,
     "metadata": {},
     "output_type": "execute_result"
    }
   ],
   "source": [
    "my_array[np.where((my_array > 10) | (my_array < 20))]"
   ]
  },
  {
   "cell_type": "markdown",
   "id": "97c75133",
   "metadata": {},
   "source": [
    "## The `if` statement\n",
    "\n",
    "When you need a program to do something more complicated than arithmetic, you'll sometimes need the code to do something _if_ some condition is met, otherwise it should do something else.\n",
    "\n",
    "The syntax is as follows\n",
    "\n",
    "```python\n",
    "if STATEMENT:\n",
    "    THING\n",
    "```\n",
    "\n",
    "so, python does the THING if the STATEMENT is true. We can also tell python what to do if STATEMENT is not true, with:\n",
    "\n",
    "```python\n",
    "if STATEMENT:\n",
    "    THING\n",
    "else:\n",
    "    OTHERTHING\n",
    "```\n",
    "\n",
    "One basic example is checking a password. _If_ someone submits the right password, then tell them they're welcome, _else_ (otherwise) give them a warning to get away. Here's how we can do that in Python:\n"
   ]
  },
  {
   "cell_type": "code",
   "execution_count": 19,
   "id": "5167e205",
   "metadata": {},
   "outputs": [
    {
     "name": "stdout",
     "output_type": "stream",
     "text": [
      "Enter.\n"
     ]
    }
   ],
   "source": [
    "password = 'friend'\n",
    "truePassword = 'friend'\n",
    "\n",
    "if password == truePassword:\n",
    "    # This indented code will only run if the above condition is True\n",
    "    print('Enter.')\n",
    "else:\n",
    "    # This indented code will only run if the above condition is False\n",
    "    print('You shall not pass!')"
   ]
  },
  {
   "cell_type": "code",
   "execution_count": 20,
   "id": "c2176996-83f8-4898-b2f2-21c68084b7b6",
   "metadata": {},
   "outputs": [
    {
     "name": "stdout",
     "output_type": "stream",
     "text": [
      "You shall not pass!\n"
     ]
    }
   ],
   "source": [
    "password = 'ememy'\n",
    "truePassword = 'friend'\n",
    "\n",
    "if password == truePassword:\n",
    "    # This indented code will only run if the above condition is True\n",
    "    print('Enter.')\n",
    "else:\n",
    "    # This indented code will only run if the above condition is False\n",
    "    print('You shall not pass!')"
   ]
  },
  {
   "cell_type": "markdown",
   "id": "094353cd",
   "metadata": {},
   "source": [
    "The above example has only two possible outcomes - either the password is correct or incorrect. Sometimes, you'll want more possible outcomes, and for those occasions you can use the `elif` statement, meaning \"else-if\". For example, let's create a program that tells you how someone might react to a gift of skittles:\n",
    "\n",
    "Run the code in the cell below and see what happens when you change the value of the `skittles_gifted` variable."
   ]
  },
  {
   "cell_type": "code",
   "execution_count": 24,
   "id": "1417a5bc",
   "metadata": {},
   "outputs": [
    {
     "name": "stdout",
     "output_type": "stream",
     "text": [
      "I would love some more skittles if you'll share.\n"
     ]
    }
   ],
   "source": [
    "skittles_gifted = 1\n",
    "\n",
    "if skittles_gifted < 5:\n",
    "    print(\"I would love some more skittles if you'll share.\")\n",
    "elif skittles_gifted < 10:\n",
    "    print(\"Maybe one more skittle please.\")\n",
    "elif skittles_gifted < 50:\n",
    "    print(\"Thank you, but this is too many skittles.\")\n",
    "else:\n",
    "    print(\"Oh no! I'm buried in skittles now.\")"
   ]
  },
  {
   "cell_type": "markdown",
   "id": "f6257764",
   "metadata": {},
   "source": [
    "### Example 1\n",
    "\n",
    "In the cell below, turn the above code into a function, where the argument is the amount of skittles gifted: "
   ]
  },
  {
   "cell_type": "code",
   "execution_count": 29,
   "id": "1565d09a",
   "metadata": {},
   "outputs": [
    {
     "data": {
      "text/plain": [
       "'Thank you, but this is too many skittles.'"
      ]
     },
     "execution_count": 29,
     "metadata": {},
     "output_type": "execute_result"
    }
   ],
   "source": [
    "def skittles_gifted(number_of_skittles):\n",
    "    \"\"\"\n",
    "    input:\n",
    "    number_of_skittles ; int \n",
    "\n",
    "    return:\n",
    "    statement ; string\n",
    "    \"\"\"\n",
    "    \n",
    "    if number_of_skittles < 5:\n",
    "        return \"I would love some more skittles if you'll share.\"\n",
    "    elif number_of_skittles < 10:\n",
    "        return \"Maybe one more skittle please.\" \n",
    "    elif number_of_skittles < 50:\n",
    "        return \"Thank you, but this is too many skittles.\"\n",
    "    else:\n",
    "        return \"Oh no! I'm buried in skittles now.\" \n",
    "\n",
    "\n",
    "skittles_gifted(48)"
   ]
  },
  {
   "cell_type": "markdown",
   "id": "3552d261",
   "metadata": {},
   "source": [
    "### Example 2\n",
    "\n",
    "In the cell below, create a function that checks that a customer paid the correct amount for a product. The function should have two arguments: `customer_paid` for how much the customer gave you, and `price` for how much the product costs. Then your program will do one of three things: \n",
    "1. If the customer pays exactly the price, print \"thanks!\"\n",
    "2. If the customer pays more than the price, print \"thanks!!!\"\n",
    "3. If the customer pays less than the price, print \"try again\""
   ]
  },
  {
   "cell_type": "code",
   "execution_count": null,
   "id": "527f8f0d",
   "metadata": {},
   "outputs": [],
   "source": []
  },
  {
   "cell_type": "markdown",
   "id": "e7c2eb5f-65bb-46a1-9967-66d3cabf4665",
   "metadata": {},
   "source": [
    "### The `for` loop\n",
    "\n",
    "The `for` loop is trickier to learn than the other statements we've learned so far, but it's worth the trouble! \n",
    "\n",
    "A `for` loop is used to do something with every element of a list or array. The syntax is as follows\n",
    "\n",
    "```python\n",
    "for VARNAME in ITERABLE:\n",
    "    DO THING WITH VARNAME\n",
    "```\n",
    "You can give VARNAME whatever name you want. When you do something with that variable name in the for loop, python will do that to every element of ITERABLE.\n",
    "\n",
    "Let's say you have a grocery list of items you want to buy from the store. And let's say that the store publishes a list of prices for each item."
   ]
  },
  {
   "cell_type": "code",
   "execution_count": 13,
   "id": "f06925f0-788f-488c-bcb5-1d03f7443e8b",
   "metadata": {},
   "outputs": [
    {
     "name": "stdout",
     "output_type": "stream",
     "text": [
      "['eggs', 'tofu', 'milk', 'chorizo', 'potatoes', 'tortillas', 'candy'] [3.99, 2.99, 2.99, 5.99, 1.99, 0.99, 5.99]\n"
     ]
    }
   ],
   "source": [
    "grocery_list = ['eggs', 'tofu', 'milk', 'chorizo', 'potatoes', 'tortillas', 'candy']\n",
    "\n",
    "# List is in dollars for (in order): eggs, tofu, milk, bread, candy\n",
    "prices_list = [3.99, 2.99, 2.99, 5.99, 1.99, 0.99, 5.99] \n",
    "\n",
    "print(grocery_list, prices_list)"
   ]
  },
  {
   "cell_type": "markdown",
   "id": "b5855b83-d280-43ee-b1c8-2b0ab5888793",
   "metadata": {},
   "source": [
    "Note that the lists are printed sequentially. It would be a lot easier to read this like a table, with a column of items, and a column of their corresponding prices. We can do that with the code below. "
   ]
  },
  {
   "cell_type": "code",
   "execution_count": 14,
   "id": "8b39bd3f-0bdf-4b85-a6d4-4ba9b570ce04",
   "metadata": {},
   "outputs": [
    {
     "name": "stdout",
     "output_type": "stream",
     "text": [
      "eggs 3.99\n",
      "tofu 2.99\n",
      "milk 2.99\n",
      "chorizo 5.99\n",
      "potatoes 1.99\n",
      "tortillas 0.99\n",
      "candy 5.99\n"
     ]
    }
   ],
   "source": [
    "print(grocery_list[0], prices_list[0])\n",
    "print(grocery_list[1], prices_list[1])\n",
    "print(grocery_list[2], prices_list[2])\n",
    "print(grocery_list[3], prices_list[3])\n",
    "print(grocery_list[4], prices_list[4])\n",
    "print(grocery_list[5], prices_list[5])\n",
    "print(grocery_list[6], prices_list[6])"
   ]
  },
  {
   "cell_type": "markdown",
   "id": "372b5534-e8db-455b-8b96-836d39f76361",
   "metadata": {},
   "source": [
    "But that took a lot of typing! And would take even more typing if we had a longer grocery list. We can do this really efficiently with a `for` loop. But we have to build up to it first!\n",
    "\n",
    "Let's start by printing each name in the `grocery_list` list with a `for` loop: "
   ]
  },
  {
   "cell_type": "code",
   "execution_count": 15,
   "id": "1d7d223f-2fda-4f88-a378-c82dd9e4086f",
   "metadata": {},
   "outputs": [
    {
     "name": "stdout",
     "output_type": "stream",
     "text": [
      "eggs\n",
      "tofu\n",
      "milk\n",
      "chorizo\n",
      "potatoes\n",
      "tortillas\n",
      "candy\n"
     ]
    }
   ],
   "source": [
    "for grocery in grocery_list: # Think about this as saying \"for each name in grocery_list: do\"\n",
    "    print(grocery)"
   ]
  },
  {
   "cell_type": "markdown",
   "id": "beda09f7-bd18-41c3-b4ce-ebda556ece0b",
   "metadata": {},
   "source": [
    "Let's break it down. `grocery_list` is the list that we're going to _iterate_ over, or _loop_ over. When you say `for grocery in grocery_list`, here's what happens: \n",
    "* the `for` says you're going to start a `for` loop\n",
    "* `grocery` is a new variable that you're specifying, which the `grocery` loop is going to give values to. You can name this variable whatever you want\n",
    "* `in` says that each `grocery` is going to come from an element of the `grocery_list` list\n",
    "* `grocery_list` is the list that you're going to pull elements from\n",
    "\n",
    "Here's what is going to happen when the `for` loop is run:\n",
    "1. The `for` loop sets the variable `grocery` equal to the first item in `grocery_list` (which is `\"eggs\"`)\n",
    "2. The indented code is executed\n",
    "3. The `for` loop sets `grocery` equal to the second item in `grocery_list` (which is `\"tofu\"`)\n",
    "4. The indented code is executed\n",
    "5. The `for` loop sets `grocery` equal to the third item in `grocery_list` (which is `\"milk\"`)\n",
    "6. Repeat until you've iterated over every element in `grocery_list`\n",
    "\n",
    "### Example 3\n",
    "\n",
    "In the cell below, use the `for` loop above as a template to create a `for` loop that prints the price of each grocery from the `prices_list`."
   ]
  },
  {
   "cell_type": "code",
   "execution_count": null,
   "id": "bf043411-82fe-495a-8900-7854e5a7b2c3",
   "metadata": {},
   "outputs": [],
   "source": []
  },
  {
   "cell_type": "markdown",
   "id": "1ad8bec4-cf37-42c1-9feb-2ce6d7c1aefa",
   "metadata": {},
   "source": [
    "## Making a table of groceries and their prices"
   ]
  },
  {
   "cell_type": "markdown",
   "id": "518e90bd-7e32-4415-9f9c-47e6bbd18bd7",
   "metadata": {},
   "source": [
    "So, we want to make a table that has two columns, the first column has the groceries and the second has their prices. You might think, \"if a for loop iterates over one list, then how can we do something with two lists?\"\n",
    "\n",
    "This is where a new function called `range` comes in handy. Let's see what it does in the context of `for` loops."
   ]
  },
  {
   "cell_type": "code",
   "execution_count": 16,
   "id": "c22b33b2-617c-4cb0-9e3a-524577616383",
   "metadata": {},
   "outputs": [
    {
     "name": "stdout",
     "output_type": "stream",
     "text": [
      "0\n",
      "1\n",
      "2\n",
      "3\n",
      "4\n"
     ]
    }
   ],
   "source": [
    "for i in range(5):\n",
    "    print(i)"
   ]
  },
  {
   "cell_type": "markdown",
   "id": "284bfe26-2c24-46fb-8c61-409be5a30767",
   "metadata": {},
   "source": [
    "The `for` loop is first setting `i=0` and printing `i`, then it sets `i=1` and prints `i`, and keeps going until the last element, 4.\n",
    "\n",
    "The range function is producing a series of consecutive integers just like `np.arange` did. The argument `5` tells `range` to produce the numbers from zero to four.\n",
    "\n",
    "Now, let's recall how indexing of lists works. If we want to see the first element of the `grocery_list` list we would write `grocery_list[0]`, or `grocery_list[1]` for the second element of the list. \n",
    "\n",
    "So, let's print every grocery in the `grocery_list` with a `for` loop and indexing."
   ]
  },
  {
   "cell_type": "code",
   "execution_count": 17,
   "id": "342e88fd-ccca-4174-844b-3e8317b34e1d",
   "metadata": {},
   "outputs": [
    {
     "name": "stdout",
     "output_type": "stream",
     "text": [
      "7\n"
     ]
    }
   ],
   "source": [
    "number_of_groceries = len(grocery_list)\n",
    "print(number_of_groceries)"
   ]
  },
  {
   "cell_type": "code",
   "execution_count": 18,
   "id": "276cff95-6e8b-475e-9d33-58692b6376f2",
   "metadata": {},
   "outputs": [
    {
     "name": "stdout",
     "output_type": "stream",
     "text": [
      "eggs\n",
      "tofu\n",
      "milk\n",
      "chorizo\n",
      "potatoes\n",
      "tortillas\n",
      "candy\n"
     ]
    }
   ],
   "source": [
    "for number in range(number_of_groceries):\n",
    "    print(grocery_list[number])"
   ]
  },
  {
   "cell_type": "markdown",
   "id": "66bb9db5-5c2a-49ad-bb34-a77e6faa2c28",
   "metadata": {},
   "source": [
    "So, you might think \"Hey! This is just the same as the code we wrote above where we said\n",
    "```python\n",
    "for grocery in grocery_list:\n",
    "    print(grocery)\n",
    "```\n",
    "what's the point of doing it a different way?\"\n",
    "\n",
    "Well, in this case, you're not iterating over ``grocery_list``, you're iterating over the indices of ``grocery_list``, and these indices can be used to index into other lists.\n",
    "\n",
    "Let's get back to our goal, printing each grocery and their corresponding price in two columns."
   ]
  },
  {
   "cell_type": "markdown",
   "id": "e49b2ce9-0433-4dda-af3c-b22eb5fecffc",
   "metadata": {},
   "source": [
    "### Example 4\n",
    "\n",
    "Use a single for loop, the ```range``` function, and indexing to print each grocery and their corresponding price in a two-column format.\n",
    "\n",
    "**Heads up:** this is the toughest coding we've done so far, and it's going to be confusing. Nobody understands `for` loops the first time that they see them, so don't hesitate to ask for help. Remember to talk with your neighbors, and to raise your hand if you get stuck!"
   ]
  },
  {
   "cell_type": "code",
   "execution_count": null,
   "id": "9e28489f-1a07-4167-93bd-d776e67d47d5",
   "metadata": {},
   "outputs": [],
   "source": []
  },
  {
   "cell_type": "markdown",
   "id": "4bd30740",
   "metadata": {},
   "source": [
    "### Example 5\n",
    "\n",
    "`for` loops are mostly useful for doing repeated calculations on items of a list. \n",
    "\n",
    "Let's assume that the store is having a sale, and all prices are cut in half!\n",
    "\n",
    "In the cell below, make a `for` loop that prints how much you'll actually pay for each price in ``prices_list``.\n",
    "\n"
   ]
  },
  {
   "cell_type": "code",
   "execution_count": null,
   "id": "bc97fcfe",
   "metadata": {},
   "outputs": [],
   "source": []
  },
  {
   "cell_type": "markdown",
   "id": "08545d58",
   "metadata": {},
   "source": [
    "### Making a list with for loops"
   ]
  },
  {
   "cell_type": "markdown",
   "id": "5e1a6e4b",
   "metadata": {},
   "source": [
    "So far, we've seen examples where we wanted to get elements out of a list, but we also use `for` loops to add elements to lists. \n",
    "\n",
    "Let's make a new list of prices that represents how much you'll actually pay for each grocery.\n",
    "\n",
    "Without a `for` loop you would do that like this."
   ]
  },
  {
   "cell_type": "code",
   "execution_count": null,
   "id": "d7b949ab",
   "metadata": {},
   "outputs": [],
   "source": [
    "actual_prices = [] # Make an empty list that we will add our discount prices to\n",
    "\n",
    "actual_prices.append(prices_list[0] / 2)\n",
    "actual_prices.append(prices_list[1] / 2)\n",
    "actual_prices.append(prices_list[2] / 2)\n",
    "actual_prices.append(prices_list[3] / 2)\n",
    "actual_prices.append(prices_list[4] / 2)\n",
    "actual_prices.append(prices_list[5] / 2)\n",
    "actual_prices.append(prices_list[6] / 2)\n",
    "\n",
    "print(actual_prices)"
   ]
  },
  {
   "cell_type": "markdown",
   "id": "3149310e",
   "metadata": {},
   "source": [
    "\n",
    "Whenever you start doing something like the code above, you should think about using a for loop instead. It'll save you a lot of time and space. You can think of a for loop kind of like doing a copy and paste, but being able to slightly change whatever you're pasting each time you paste it."
   ]
  },
  {
   "cell_type": "markdown",
   "id": "5885e17a",
   "metadata": {},
   "source": [
    "### Example 6\n",
    "\n",
    "In the cell below, create an empty list called `actual_prices`, then using a `for` loop, append to it the actual price that you'll pay for each grocery. I.e., turn the too-long code in the cell above into some nice efficient code using a `for` loop."
   ]
  },
  {
   "cell_type": "code",
   "execution_count": null,
   "id": "3bbb6f4d",
   "metadata": {},
   "outputs": [],
   "source": [
    "actual_prices = []\n",
    "\n",
    "# Write for loop here\n",
    "\n",
    "print(actual_prices)"
   ]
  },
  {
   "cell_type": "code",
   "execution_count": null,
   "id": "8d83845d",
   "metadata": {},
   "outputs": [],
   "source": []
  },
  {
   "cell_type": "code",
   "execution_count": null,
   "id": "4779798c",
   "metadata": {},
   "outputs": [],
   "source": []
  },
  {
   "cell_type": "markdown",
   "id": "b4ccd54b",
   "metadata": {},
   "source": [
    "# Python dictionary\n",
    "\n",
    "Before we talk about working with data, we're going to learn a new python type, the dictionary!\n",
    "\n",
    "A dictionary in python is kind of like a dictionary in the real world, it is an object that associates a reference to a value. This is similar to how a dictionary associates a word with a definition. \n",
    "\n",
    "In python, we can declare a dictionary with curly brackets {}. Inside the curly brackets, we write out keys and values, as so:"
   ]
  },
  {
   "cell_type": "code",
   "execution_count": null,
   "id": "58fe91cb",
   "metadata": {},
   "outputs": [],
   "source": [
    "SampleDictionary = {\"Frog\": \"A type of animal\", \"Bear\": \"A kind of big furry mammal\"}"
   ]
  },
  {
   "cell_type": "markdown",
   "id": "ed59d04e",
   "metadata": {},
   "source": [
    "Dictionaries have two types of things in them, <b>keys</b> and <b>values</b>. Each <b>values</b> is associated with a <b>key</b>. When defining a dictionary, the key is on the left of the colon, and the value is on the right. Keys and values can be any type, in the example above both our keys and our values are strings, but they could be ints, or floats, or even lists.\n",
    "\n",
    "You can access the values from the dictionary by \"indexing\" into the dictionary with the key that is associated with that value, for example to see the definition for a \"Bear\" we type:"
   ]
  },
  {
   "cell_type": "code",
   "execution_count": null,
   "id": "b4933eb0",
   "metadata": {},
   "outputs": [],
   "source": [
    "SampleDictionary[\"Bear\"]"
   ]
  },
  {
   "cell_type": "markdown",
   "id": "8809e763",
   "metadata": {},
   "source": [
    "Finally, you can print all of the keys or values for a dictionary by running `SampleDictionary.keys()` or `SampleDictionary.values()`"
   ]
  },
  {
   "cell_type": "code",
   "execution_count": null,
   "id": "5906b5e5",
   "metadata": {},
   "outputs": [],
   "source": [
    "print(SampleDictionary.keys())\n",
    "print(SampleDictionary.values())"
   ]
  }
 ],
 "metadata": {
  "kernelspec": {
   "display_name": "Python 3 (ipykernel)",
   "language": "python",
   "name": "python3"
  },
  "language_info": {
   "codemirror_mode": {
    "name": "ipython",
    "version": 3
   },
   "file_extension": ".py",
   "mimetype": "text/x-python",
   "name": "python",
   "nbconvert_exporter": "python",
   "pygments_lexer": "ipython3",
   "version": "3.12.2"
  }
 },
 "nbformat": 4,
 "nbformat_minor": 5
}
