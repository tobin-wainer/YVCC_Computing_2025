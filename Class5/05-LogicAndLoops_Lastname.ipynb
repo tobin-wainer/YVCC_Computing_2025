{
 "cells": [
  {
   "cell_type": "markdown",
   "id": "5054e0d8",
   "metadata": {},
   "source": [
    "# Control flow/logic\n",
    "### Control flow statements literally control the flow of your code!\n",
    "There are a few basic types of control flow statements that we will learn. These are as follows: \n",
    "- **if:** do something _if_ some condition is `True`\n",
    "\n",
    "Let's look at some examples. **Notice that indentation (whitespace preceding code) matters in Python**! Blocks of text following an `if` statement must be indented to run properly. You can think of the indent as saying \"do\"."
   ]
  },
  {
   "cell_type": "markdown",
   "id": "a09cfc7f",
   "metadata": {},
   "source": [
    "## What is a boolean?\n",
    "\n",
    "A boolean is a special data type in python that has two possible values, `True` or `False`.\n",
    "\n",
    "When we type a statement in python that results in a Boolean, we are essentially asking if that statement is `True` or `False`. For example"
   ]
  },
  {
   "cell_type": "code",
   "execution_count": 1,
   "id": "55937607",
   "metadata": {},
   "outputs": [
    {
     "name": "stdout",
     "output_type": "stream",
     "text": [
      "True\n",
      "False\n"
     ]
    }
   ],
   "source": [
    "number = 5\n",
    "\n",
    "print(number > 2)\n",
    "print(number < 2)"
   ]
  },
  {
   "cell_type": "code",
   "execution_count": null,
   "id": "f50db4e8",
   "metadata": {},
   "outputs": [],
   "source": []
  },
  {
   "cell_type": "markdown",
   "id": "aa8686b6",
   "metadata": {},
   "source": [
    "This doesn't just hold for numbers, we can check if a variable is equal to a string as well. Remember that when we want to check if two things are equal, we use `==`."
   ]
  },
  {
   "cell_type": "code",
   "execution_count": 2,
   "id": "f1d5a538",
   "metadata": {},
   "outputs": [
    {
     "name": "stdout",
     "output_type": "stream",
     "text": [
      "False\n"
     ]
    }
   ],
   "source": [
    "chalkboard_text = \"The Simpsons\"\n",
    "\n",
    "print(chalkboard_text == \"Futurama\")"
   ]
  },
  {
   "cell_type": "code",
   "execution_count": 3,
   "id": "fe2eada3",
   "metadata": {},
   "outputs": [
    {
     "name": "stdout",
     "output_type": "stream",
     "text": [
      "False\n"
     ]
    }
   ],
   "source": [
    "print(4 == 5)"
   ]
  },
  {
   "cell_type": "markdown",
   "id": "2bf44324",
   "metadata": {},
   "source": [
    "This will come in handy today as we learn how to write code that only runs sometimes to handle multiple cases."
   ]
  },
  {
   "cell_type": "markdown",
   "id": "f5e36376",
   "metadata": {},
   "source": [
    "### `and` and `or`\n",
    "\n",
    "You can make complex statements that result in Booleans by using `and` and `or`. These work as follows:"
   ]
  },
  {
   "cell_type": "code",
   "execution_count": 4,
   "id": "a2ff99e6",
   "metadata": {},
   "outputs": [],
   "source": [
    "number = 5"
   ]
  },
  {
   "cell_type": "code",
   "execution_count": 5,
   "id": "ec35a42e",
   "metadata": {},
   "outputs": [
    {
     "name": "stdout",
     "output_type": "stream",
     "text": [
      "True\n"
     ]
    }
   ],
   "source": [
    "print(number > 0 and number == 5)"
   ]
  },
  {
   "cell_type": "code",
   "execution_count": 6,
   "id": "57f91fcf",
   "metadata": {},
   "outputs": [
    {
     "name": "stdout",
     "output_type": "stream",
     "text": [
      "False\n"
     ]
    }
   ],
   "source": [
    "print(number > 0 and number > 10)"
   ]
  },
  {
   "cell_type": "code",
   "execution_count": 7,
   "id": "d72714a6",
   "metadata": {},
   "outputs": [
    {
     "name": "stdout",
     "output_type": "stream",
     "text": [
      "False\n"
     ]
    }
   ],
   "source": [
    "print(number < 0 and number > 10)"
   ]
  },
  {
   "cell_type": "code",
   "execution_count": 8,
   "id": "9c531ddc",
   "metadata": {},
   "outputs": [
    {
     "name": "stdout",
     "output_type": "stream",
     "text": [
      "True\n"
     ]
    }
   ],
   "source": [
    "print(number > 0 or number == 5)"
   ]
  },
  {
   "cell_type": "code",
   "execution_count": 9,
   "id": "d548dfc6",
   "metadata": {},
   "outputs": [
    {
     "name": "stdout",
     "output_type": "stream",
     "text": [
      "True\n"
     ]
    }
   ],
   "source": [
    "print(number > 0 or number > 10)"
   ]
  },
  {
   "cell_type": "code",
   "execution_count": 10,
   "id": "20d39bd5",
   "metadata": {},
   "outputs": [
    {
     "name": "stdout",
     "output_type": "stream",
     "text": [
      "False\n"
     ]
    }
   ],
   "source": [
    "print(number < 0 or number > 10)"
   ]
  },
  {
   "cell_type": "markdown",
   "id": "97c75133",
   "metadata": {},
   "source": [
    "## The `if` statement\n",
    "\n",
    "When you need a program to do something more complicated than arithmetic, you'll sometimes need the code to do something _if_ some condition is met, otherwise it should do something else.\n",
    "\n",
    "The syntax is as follows\n",
    "\n",
    "```python\n",
    "if STATEMENT:\n",
    "    THING\n",
    "```\n",
    "\n",
    "so, python does the THING if the STATEMENT is true. We can also tell python what to do if STATEMENT is not true, with:\n",
    "\n",
    "```python\n",
    "if STATEMENT:\n",
    "    THING\n",
    "else:\n",
    "    OTHERTHING\n",
    "```\n",
    "\n",
    "One basic example is checking a password. _If_ someone submits the right password, then tell them they're welcome, _else_ (otherwise) give them a warning to get away. Here's how we can do that in Python:\n"
   ]
  },
  {
   "cell_type": "code",
   "execution_count": 11,
   "id": "5167e205",
   "metadata": {},
   "outputs": [
    {
     "name": "stdout",
     "output_type": "stream",
     "text": [
      "Enter.\n"
     ]
    }
   ],
   "source": [
    "password = 'friend'\n",
    "truePassword = 'friend'\n",
    "\n",
    "if password == truePassword:\n",
    "    # This indented code will only run if the above condition is True\n",
    "    print('Enter.')\n",
    "else:\n",
    "    # This indented code will only run if the above condition is False\n",
    "    print('You shall not pass!')"
   ]
  },
  {
   "cell_type": "markdown",
   "id": "094353cd",
   "metadata": {},
   "source": [
    "The above example has only two possible outcomes - either the password is correct or incorrect. Sometimes, you'll want more possible outcomes, and for those occasions you can use the `elif` statement, meaning \"else-if\". For example, let's create a program that tells you how someone might react to a gift of skittles:\n",
    "\n",
    "Run the code in the cell below and see what happens when you change the value of the `skittles_gifted` variable."
   ]
  },
  {
   "cell_type": "code",
   "execution_count": 12,
   "id": "1417a5bc",
   "metadata": {},
   "outputs": [
    {
     "name": "stdout",
     "output_type": "stream",
     "text": [
      "Oh no! I'm buried in skittles now.\n"
     ]
    }
   ],
   "source": [
    "skittles_gifted = 100\n",
    "\n",
    "if skittles_gifted < 5:\n",
    "    print(\"I would love some more skittles if you'll share.\")\n",
    "elif skittles_gifted < 10:\n",
    "    print(\"Maybe one more skittle please.\")\n",
    "elif skittles_gifted < 50:\n",
    "    print(\"Thank you, but this is too many skittles.\")\n",
    "else:\n",
    "    print(\"Oh no! I'm buried in skittles now.\")"
   ]
  },
  {
   "cell_type": "markdown",
   "id": "f6257764",
   "metadata": {},
   "source": [
    "### Example 1\n",
    "\n",
    "In the cell below, turn the above code into a function, where the argument is the amount of skittles gifted: "
   ]
  },
  {
   "cell_type": "code",
   "execution_count": null,
   "id": "1565d09a",
   "metadata": {},
   "outputs": [],
   "source": []
  },
  {
   "cell_type": "markdown",
   "id": "3552d261",
   "metadata": {},
   "source": [
    "### Example 2\n",
    "\n",
    "In the cell below, create a function that checks that a customer paid the correct amount for a product. The function should have two arguments: `customer_paid` for how much the customer gave you, and `price` for how much the product costs. Then your program will do one of three things: \n",
    "1. If the customer pays exactly the price, print \"thanks!\"\n",
    "2. If the customer pays more than the price, print \"thanks!!!\"\n",
    "3. If the customer pays less than the price, print \"try again\""
   ]
  },
  {
   "cell_type": "code",
   "execution_count": null,
   "id": "527f8f0d",
   "metadata": {},
   "outputs": [],
   "source": []
  },
  {
   "cell_type": "markdown",
   "id": "e7c2eb5f-65bb-46a1-9967-66d3cabf4665",
   "metadata": {},
   "source": [
    "### The `for` loop\n",
    "\n",
    "The `for` loop is trickier to learn than the other statements we've learned so far, but it's worth the trouble! \n",
    "\n",
    "A `for` loop is used to do something with every element of a list or array. The syntax is as follows\n",
    "\n",
    "```python\n",
    "for VARNAME in ITERABLE:\n",
    "    DO THING WITH VARNAME\n",
    "```\n",
    "You can give VARNAME whatever name you want. When you do something with that variable name in the for loop, python will do that to every element of ITERABLE.\n",
    "\n",
    "Let's say you have a grocery list of items you want to buy from the store. And let's say that the store publishes a list of prices for each item."
   ]
  },
  {
   "cell_type": "code",
   "execution_count": 13,
   "id": "f06925f0-788f-488c-bcb5-1d03f7443e8b",
   "metadata": {},
   "outputs": [
    {
     "name": "stdout",
     "output_type": "stream",
     "text": [
      "['eggs', 'tofu', 'milk', 'chorizo', 'potatoes', 'tortillas', 'candy'] [3.99, 2.99, 2.99, 5.99, 1.99, 0.99, 5.99]\n"
     ]
    }
   ],
   "source": [
    "grocery_list = ['eggs', 'tofu', 'milk', 'chorizo', 'potatoes', 'tortillas', 'candy']\n",
    "\n",
    "# List is in dollars for (in order): eggs, tofu, milk, bread, candy\n",
    "prices_list = [3.99, 2.99, 2.99, 5.99, 1.99, 0.99, 5.99] \n",
    "\n",
    "print(grocery_list, prices_list)"
   ]
  },
  {
   "cell_type": "markdown",
   "id": "b5855b83-d280-43ee-b1c8-2b0ab5888793",
   "metadata": {},
   "source": [
    "Note that the lists are printed sequentially. It would be a lot easier to read this like a table, with a column of items, and a column of their corresponding prices. We can do that with the code below. "
   ]
  },
  {
   "cell_type": "code",
   "execution_count": 14,
   "id": "8b39bd3f-0bdf-4b85-a6d4-4ba9b570ce04",
   "metadata": {},
   "outputs": [
    {
     "name": "stdout",
     "output_type": "stream",
     "text": [
      "eggs 3.99\n",
      "tofu 2.99\n",
      "milk 2.99\n",
      "chorizo 5.99\n",
      "potatoes 1.99\n",
      "tortillas 0.99\n",
      "candy 5.99\n"
     ]
    }
   ],
   "source": [
    "print(grocery_list[0], prices_list[0])\n",
    "print(grocery_list[1], prices_list[1])\n",
    "print(grocery_list[2], prices_list[2])\n",
    "print(grocery_list[3], prices_list[3])\n",
    "print(grocery_list[4], prices_list[4])\n",
    "print(grocery_list[5], prices_list[5])\n",
    "print(grocery_list[6], prices_list[6])"
   ]
  },
  {
   "cell_type": "markdown",
   "id": "372b5534-e8db-455b-8b96-836d39f76361",
   "metadata": {},
   "source": [
    "But that took a lot of typing! And would take even more typing if we had a longer grocery list. We can do this really efficiently with a `for` loop. But we have to build up to it first!\n",
    "\n",
    "Let's start by printing each name in the `grocery_list` list with a `for` loop: "
   ]
  },
  {
   "cell_type": "code",
   "execution_count": 15,
   "id": "1d7d223f-2fda-4f88-a378-c82dd9e4086f",
   "metadata": {},
   "outputs": [
    {
     "name": "stdout",
     "output_type": "stream",
     "text": [
      "eggs\n",
      "tofu\n",
      "milk\n",
      "chorizo\n",
      "potatoes\n",
      "tortillas\n",
      "candy\n"
     ]
    }
   ],
   "source": [
    "for grocery in grocery_list: # Think about this as saying \"for each name in grocery_list: do\"\n",
    "    print(grocery)"
   ]
  },
  {
   "cell_type": "markdown",
   "id": "beda09f7-bd18-41c3-b4ce-ebda556ece0b",
   "metadata": {},
   "source": [
    "Let's break it down. `grocery_list` is the list that we're going to _iterate_ over, or _loop_ over. When you say `for grocery in grocery_list`, here's what happens: \n",
    "* the `for` says you're going to start a `for` loop\n",
    "* `grocery` is a new variable that you're specifying, which the `grocery` loop is going to give values to. You can name this variable whatever you want\n",
    "* `in` says that each `grocery` is going to come from an element of the `grocery_list` list\n",
    "* `grocery_list` is the list that you're going to pull elements from\n",
    "\n",
    "Here's what is going to happen when the `for` loop is run:\n",
    "1. The `for` loop sets the variable `grocery` equal to the first item in `grocery_list` (which is `\"eggs\"`)\n",
    "2. The indented code is executed\n",
    "3. The `for` loop sets `grocery` equal to the second item in `grocery_list` (which is `\"tofu\"`)\n",
    "4. The indented code is executed\n",
    "5. The `for` loop sets `grocery` equal to the third item in `grocery_list` (which is `\"milk\"`)\n",
    "6. Repeat until you've iterated over every element in `grocery_list`\n",
    "\n",
    "### Example 3\n",
    "\n",
    "In the cell below, use the `for` loop above as a template to create a `for` loop that prints the price of each grocery from the `prices_list`."
   ]
  },
  {
   "cell_type": "code",
   "execution_count": null,
   "id": "bf043411-82fe-495a-8900-7854e5a7b2c3",
   "metadata": {},
   "outputs": [],
   "source": []
  },
  {
   "cell_type": "markdown",
   "id": "1ad8bec4-cf37-42c1-9feb-2ce6d7c1aefa",
   "metadata": {},
   "source": [
    "## Making a table of groceries and their prices"
   ]
  },
  {
   "cell_type": "markdown",
   "id": "518e90bd-7e32-4415-9f9c-47e6bbd18bd7",
   "metadata": {},
   "source": [
    "So, we want to make a table that has two columns, the first column has the groceries and the second has their prices. You might think, \"if a for loop iterates over one list, then how can we do something with two lists?\"\n",
    "\n",
    "This is where a new function called `range` comes in handy. Let's see what it does in the context of `for` loops."
   ]
  },
  {
   "cell_type": "code",
   "execution_count": 16,
   "id": "c22b33b2-617c-4cb0-9e3a-524577616383",
   "metadata": {},
   "outputs": [
    {
     "name": "stdout",
     "output_type": "stream",
     "text": [
      "0\n",
      "1\n",
      "2\n",
      "3\n",
      "4\n"
     ]
    }
   ],
   "source": [
    "for i in range(5):\n",
    "    print(i)"
   ]
  },
  {
   "cell_type": "markdown",
   "id": "284bfe26-2c24-46fb-8c61-409be5a30767",
   "metadata": {},
   "source": [
    "The `for` loop is first setting `i=0` and printing `i`, then it sets `i=1` and prints `i`, and keeps going until the last element, 4.\n",
    "\n",
    "The range function is producing a series of consecutive integers just like `np.arange` did. The argument `5` tells `range` to produce the numbers from zero to four.\n",
    "\n",
    "Now, let's recall how indexing of lists works. If we want to see the first element of the `grocery_list` list we would write `grocery_list[0]`, or `grocery_list[1]` for the second element of the list. \n",
    "\n",
    "So, let's print every grocery in the `grocery_list` with a `for` loop and indexing."
   ]
  },
  {
   "cell_type": "code",
   "execution_count": 17,
   "id": "342e88fd-ccca-4174-844b-3e8317b34e1d",
   "metadata": {},
   "outputs": [
    {
     "name": "stdout",
     "output_type": "stream",
     "text": [
      "7\n"
     ]
    }
   ],
   "source": [
    "number_of_groceries = len(grocery_list)\n",
    "print(number_of_groceries)"
   ]
  },
  {
   "cell_type": "code",
   "execution_count": 18,
   "id": "276cff95-6e8b-475e-9d33-58692b6376f2",
   "metadata": {},
   "outputs": [
    {
     "name": "stdout",
     "output_type": "stream",
     "text": [
      "eggs\n",
      "tofu\n",
      "milk\n",
      "chorizo\n",
      "potatoes\n",
      "tortillas\n",
      "candy\n"
     ]
    }
   ],
   "source": [
    "for number in range(number_of_groceries):\n",
    "    print(grocery_list[number])"
   ]
  },
  {
   "cell_type": "markdown",
   "id": "66bb9db5-5c2a-49ad-bb34-a77e6faa2c28",
   "metadata": {},
   "source": [
    "So, you might think \"Hey! This is just the same as the code we wrote above where we said\n",
    "```python\n",
    "for grocery in grocery_list:\n",
    "    print(grocery)\n",
    "```\n",
    "what's the point of doing it a different way?\"\n",
    "\n",
    "Well, in this case, you're not iterating over ``grocery_list``, you're iterating over the indices of ``grocery_list``, and these indices can be used to index into other lists.\n",
    "\n",
    "Let's get back to our goal, printing each grocery and their corresponding price in two columns."
   ]
  },
  {
   "cell_type": "markdown",
   "id": "e49b2ce9-0433-4dda-af3c-b22eb5fecffc",
   "metadata": {},
   "source": [
    "### Example 4\n",
    "\n",
    "Use a single for loop, the ```range``` function, and indexing to print each grocery and their corresponding price in a two-column format.\n",
    "\n",
    "**Heads up:** this is the toughest coding we've done so far, and it's going to be confusing. Nobody understands `for` loops the first time that they see them, so don't hesitate to ask for help. Remember to talk with your neighbors, and to raise your hand if you get stuck!"
   ]
  },
  {
   "cell_type": "code",
   "execution_count": null,
   "id": "9e28489f-1a07-4167-93bd-d776e67d47d5",
   "metadata": {},
   "outputs": [],
   "source": []
  },
  {
   "cell_type": "markdown",
   "id": "4bd30740",
   "metadata": {},
   "source": [
    "### Example 5\n",
    "\n",
    "`for` loops are mostly useful for doing repeated calculations on items of a list. \n",
    "\n",
    "Let's assume that the store is having a sale, and all prices are cut in half!\n",
    "\n",
    "In the cell below, make a `for` loop that prints how much you'll actually pay for each price in ``prices_list``.\n",
    "\n"
   ]
  },
  {
   "cell_type": "code",
   "execution_count": null,
   "id": "bc97fcfe",
   "metadata": {},
   "outputs": [],
   "source": []
  },
  {
   "cell_type": "markdown",
   "id": "08545d58",
   "metadata": {},
   "source": [
    "### Making a list with for loops"
   ]
  },
  {
   "cell_type": "markdown",
   "id": "5e1a6e4b",
   "metadata": {},
   "source": [
    "So far, we've seen examples where we wanted to get elements out of a list, but we also use `for` loops to add elements to lists. \n",
    "\n",
    "Let's make a new list of prices that represents how much you'll actually pay for each grocery.\n",
    "\n",
    "Without a `for` loop you would do that like this."
   ]
  },
  {
   "cell_type": "code",
   "execution_count": null,
   "id": "d7b949ab",
   "metadata": {},
   "outputs": [],
   "source": [
    "actual_prices = [] # Make an empty list that we will add our discount prices to\n",
    "\n",
    "actual_prices.append(prices_list[0] / 2)\n",
    "actual_prices.append(prices_list[1] / 2)\n",
    "actual_prices.append(prices_list[2] / 2)\n",
    "actual_prices.append(prices_list[3] / 2)\n",
    "actual_prices.append(prices_list[4] / 2)\n",
    "actual_prices.append(prices_list[5] / 2)\n",
    "actual_prices.append(prices_list[6] / 2)\n",
    "\n",
    "print(actual_prices)"
   ]
  },
  {
   "cell_type": "markdown",
   "id": "3149310e",
   "metadata": {},
   "source": [
    "\n",
    "Whenever you start doing something like the code above, you should think about using a for loop instead. It'll save you a lot of time and space. You can think of a for loop kind of like doing a copy and paste, but being able to slightly change whatever you're pasting each time you paste it."
   ]
  },
  {
   "cell_type": "markdown",
   "id": "5885e17a",
   "metadata": {},
   "source": [
    "### Example 6\n",
    "\n",
    "In the cell below, create an empty list called `actual_prices`, then using a `for` loop, append to it the actual price that you'll pay for each grocery. I.e., turn the too-long code in the cell above into some nice efficient code using a `for` loop."
   ]
  },
  {
   "cell_type": "code",
   "execution_count": null,
   "id": "3bbb6f4d",
   "metadata": {},
   "outputs": [],
   "source": [
    "actual_prices = []\n",
    "\n",
    "# Write for loop here\n",
    "\n",
    "print(actual_prices)"
   ]
  },
  {
   "cell_type": "code",
   "execution_count": null,
   "id": "8d83845d",
   "metadata": {},
   "outputs": [],
   "source": []
  },
  {
   "cell_type": "code",
   "execution_count": null,
   "id": "4779798c",
   "metadata": {},
   "outputs": [],
   "source": []
  },
  {
   "cell_type": "markdown",
   "id": "b4ccd54b",
   "metadata": {},
   "source": [
    "# Python dictionary\n",
    "\n",
    "Before we talk about working with data, we're going to learn a new python type, the dictionary!\n",
    "\n",
    "A dictionary in python is kind of like a dictionary in the real world, it is an object that associates a reference to a value. This is similar to how a dictionary associates a word with a definition. \n",
    "\n",
    "In python, we can declare a dictionary with curly brackets {}. Inside the curly brackets, we write out keys and values, as so:"
   ]
  },
  {
   "cell_type": "code",
   "execution_count": null,
   "id": "58fe91cb",
   "metadata": {},
   "outputs": [],
   "source": [
    "SampleDictionary = {\"Frog\": \"A type of animal\", \"Bear\": \"A kind of big furry mammal\"}"
   ]
  },
  {
   "cell_type": "markdown",
   "id": "ed59d04e",
   "metadata": {},
   "source": [
    "Dictionaries have two types of things in them, <b>keys</b> and <b>values</b>. Each <b>values</b> is associated with a <b>key</b>. When defining a dictionary, the key is on the left of the colon, and the value is on the right. Keys and values can be any type, in the example above both our keys and our values are strings, but they could be ints, or floats, or even lists.\n",
    "\n",
    "You can access the values from the dictionary by \"indexing\" into the dictionary with the key that is associated with that value, for example to see the definition for a \"Bear\" we type:"
   ]
  },
  {
   "cell_type": "code",
   "execution_count": null,
   "id": "b4933eb0",
   "metadata": {},
   "outputs": [],
   "source": [
    "SampleDictionary[\"Bear\"]"
   ]
  },
  {
   "cell_type": "markdown",
   "id": "8809e763",
   "metadata": {},
   "source": [
    "Finally, you can print all of the keys or values for a dictionary by running `SampleDictionary.keys()` or `SampleDictionary.values()`"
   ]
  },
  {
   "cell_type": "code",
   "execution_count": null,
   "id": "5906b5e5",
   "metadata": {},
   "outputs": [],
   "source": [
    "print(SampleDictionary.keys())\n",
    "print(SampleDictionary.values())"
   ]
  }
 ],
 "metadata": {
  "kernelspec": {
   "display_name": "base",
   "language": "python",
   "name": "python3"
  },
  "language_info": {
   "codemirror_mode": {
    "name": "ipython",
    "version": 3
   },
   "file_extension": ".py",
   "mimetype": "text/x-python",
   "name": "python",
   "nbconvert_exporter": "python",
   "pygments_lexer": "ipython3",
   "version": "3.12.2"
  }
 },
 "nbformat": 4,
 "nbformat_minor": 5
}
