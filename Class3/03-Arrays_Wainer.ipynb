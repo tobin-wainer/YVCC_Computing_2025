{
 "cells": [
  {
   "cell_type": "markdown",
   "id": "b6100b0a",
   "metadata": {},
   "source": [
    "# Motivation: Running a function on data\n",
    "\n",
    "\n",
    "<b>Vocabulary</b>\n",
    "<ul>\n",
    "    <li>list</li>\n",
    "    <li>element</li>\n",
    "    <li>index</li>\n",
    "    <li>slice</li>\n",
    "    <li>boolean</li>\n",
    "    <li>package</li>\n",
    "    <li>numpy</li>\n",
    "</ul>"
   ]
  },
  {
   "cell_type": "markdown",
   "id": "cef8ccfa",
   "metadata": {},
   "source": [
    "# Lists\n",
    "\n",
    "You can now use Python as a calculator, but it's more useful than a handheld calculator only when you have lots of numbers to work with. You can store a group of numbers, or groups of other things, in a type called a `list`. \n",
    "\n",
    "A list is a collection of things (they can have any type, including `int`s, `float`s, `str`s. They are separated by commas and bracketed with square brackets (`[` and `]`), like this: \n",
    "```python\n",
    "shopping_list = ['apple', 'banana', 'cherry']\n",
    "```\n",
    "\n",
    "Each individual thing in a list is called an <b>element</b> of that list.\n",
    "\n",
    "Can a few people tell us their heights? We can create a list of these heights, and print the list: "
   ]
  },
  {
   "cell_type": "code",
   "execution_count": 6,
   "id": "0f696be0",
   "metadata": {},
   "outputs": [],
   "source": [
    "shopping_list = ['apple', 'bananas', 'cherries']\n"
   ]
  },
  {
   "cell_type": "markdown",
   "id": "f429b1ba",
   "metadata": {},
   "source": [
    "With these heights, we've created data! Lists are a common way to store data, because they give us a way to order numbers. A list is just like a single column in a spreadsheet.\n",
    "\n",
    "Many times you'll want to check how many elements are in your list, which you do with the `len` function, like this: \n",
    "```python\n",
    "len(class_heights)\n",
    "```\n",
    "Try that in the cell below: "
   ]
  },
  {
   "cell_type": "code",
   "execution_count": null,
   "id": "962e8c0f-4d2c-45a5-9167-8485199130fa",
   "metadata": {},
   "outputs": [],
   "source": []
  },
  {
   "cell_type": "code",
   "execution_count": 7,
   "id": "aa1597cb-1c46-46fe-a365-fc87e8103aa8",
   "metadata": {},
   "outputs": [
    {
     "name": "stdout",
     "output_type": "stream",
     "text": [
      "[72, 72, 64, 65, 66]\n"
     ]
    }
   ],
   "source": [
    "class_heights = [72, 72, 64, 65, 66]\n",
    "print(class_heights)"
   ]
  },
  {
   "cell_type": "code",
   "execution_count": null,
   "id": "7028a034-083c-4805-9c7d-2caa106b7b27",
   "metadata": {},
   "outputs": [],
   "source": []
  },
  {
   "cell_type": "code",
   "execution_count": 8,
   "id": "2d69ea66-ad62-4806-868a-643ad2ecb86f",
   "metadata": {},
   "outputs": [
    {
     "data": {
      "text/plain": [
       "5"
      ]
     },
     "execution_count": 8,
     "metadata": {},
     "output_type": "execute_result"
    }
   ],
   "source": [
    "len(class_heights)\n"
   ]
  },
  {
   "cell_type": "code",
   "execution_count": null,
   "id": "0f5be76e",
   "metadata": {},
   "outputs": [],
   "source": []
  },
  {
   "cell_type": "markdown",
   "id": "7c0be013",
   "metadata": {},
   "source": [
    "Python has a _function_ for taking the `sum` of the numbers in a list. Let's take the sum of the heights with the following command: \n",
    "```python\n",
    "sum(class_heights)\n",
    "```\n",
    "### Example 1: Sum of a list\n",
    "\n",
    "How many inches tall would our class be if we all stood one on top of each other (take the sum of the heights)? Store the answer in a variable with a sensible name (remember guidelines from above!), and print the result: "
   ]
  },
  {
   "cell_type": "code",
   "execution_count": 9,
   "id": "6d7225ac-28f4-4270-841b-5033597671e8",
   "metadata": {},
   "outputs": [
    {
     "data": {
      "text/plain": [
       "339"
      ]
     },
     "execution_count": 9,
     "metadata": {},
     "output_type": "execute_result"
    }
   ],
   "source": [
    "sum(class_heights)"
   ]
  },
  {
   "cell_type": "code",
   "execution_count": null,
   "id": "9f93c849",
   "metadata": {},
   "outputs": [],
   "source": []
  },
  {
   "cell_type": "markdown",
   "id": "33ddce83",
   "metadata": {},
   "source": [
    "*** \n",
    "\n",
    "## Adding items to a list\n",
    "\n",
    "Let's say someone new transferred into the class, and you want to add their height to the `class_heights` list. We can do that with the `append` function, which you call like this:\n",
    "```python\n",
    "new_height = 65\n",
    "class_heights.append(new_height)\n",
    "print(class_heights)\n",
    "```\n",
    "In the second line, `class_heights` is the list that we're _appending_ a new number to, `.append()` says to append the number in parentheses onto `class_heights`.\n",
    "\n",
    "Copy and paste the code above into the cell below **and execute the cell once**, to see the output."
   ]
  },
  {
   "cell_type": "code",
   "execution_count": 34,
   "id": "97d70226-835b-457d-a5f1-1dc7f65795ff",
   "metadata": {},
   "outputs": [
    {
     "name": "stdout",
     "output_type": "stream",
     "text": [
      "[72, 72, 64, 65, 66, 65, 65, 65, 65, 65, 65, 65, 65, 65, 65, 65, 65, 65, 65, 65, 65, 65, 65, 65, 65, 65, 65, 65, 65, 65]\n"
     ]
    },
    {
     "data": {
      "text/plain": [
       "30"
      ]
     },
     "execution_count": 34,
     "metadata": {},
     "output_type": "execute_result"
    }
   ],
   "source": [
    "new_height = 65\n",
    "class_heights.append(new_height)\n",
    "print(class_heights)\n",
    "\n",
    "len(class_heights)\n"
   ]
  },
  {
   "cell_type": "code",
   "execution_count": null,
   "id": "270adf80",
   "metadata": {},
   "outputs": [],
   "source": []
  },
  {
   "cell_type": "code",
   "execution_count": 58,
   "id": "056c49f2",
   "metadata": {},
   "outputs": [
    {
     "data": {
      "text/plain": [
       "6"
      ]
     },
     "execution_count": 58,
     "metadata": {},
     "output_type": "execute_result"
    }
   ],
   "source": [
    "class_heights = [72, 72, 64, 65, 66, 65]\n",
    "\n",
    "len(class_heights)"
   ]
  },
  {
   "cell_type": "markdown",
   "id": "57c057d8",
   "metadata": {},
   "source": [
    "### Example 2:\n",
    "\n",
    "What would happen if you executed the cell above a second time? Try it and check your answer."
   ]
  },
  {
   "cell_type": "code",
   "execution_count": null,
   "id": "4996ec4c",
   "metadata": {},
   "outputs": [],
   "source": []
  },
  {
   "cell_type": "code",
   "execution_count": null,
   "id": "17948489",
   "metadata": {},
   "outputs": [],
   "source": []
  },
  {
   "cell_type": "markdown",
   "id": "7df89bd8",
   "metadata": {},
   "source": [
    "## List indexing and slicing\n",
    "\n",
    "Often you'll want to be able to take a single *element*, or a few elements out of a list. To do that, you do what we call *indexing* or *slicing*. \n",
    "\n",
    "Let's work with a list using your name rather than `class_heights`.\n",
    "\n",
    "To get a specific element from the list `full_name`, we put square brackets next to the name of the list, and we put the _index_ of the element that we want inside the brackets. The index starts at **zero for the first element**, one for the second element, etc.: \n",
    "```python\n",
    "first_element = full_name[0]\n",
    "print(first_element)\n",
    "```\n",
    "\n",
    "To help you remember, that python starts at 0 (so the first element is indexed by 0):\n",
    "```python\n",
    "# Index =   0    1    2    3    4    5    6    7    8 \n",
    "astr192 = ['Y', 'U', 'P', 'R', 'A', '2', '0', '2', '4']\n",
    "```\n",
    "\n",
    "### Example 3: Zero-based indexing\n",
    "\n",
    "1. Type your full name in a string, store it in the variable `full_name`\n",
    "2. You can cast that string into a list of strings by doing this: \n",
    "```python\n",
    "full_name = \"YUPRA\"\n",
    "name_list = list(name)\n",
    "print(name_list)\n",
    "```\n",
    "which yields `['Y', 'U', 'P', 'R', 'A']`. Do this to make a list out of your name.\n",
    "3. Get the second letter in your name using indexing."
   ]
  },
  {
   "cell_type": "code",
   "execution_count": 60,
   "id": "20e889f9-d427-4c36-a2b4-ba1737c762c8",
   "metadata": {},
   "outputs": [
    {
     "data": {
      "text/plain": [
       "12"
      ]
     },
     "execution_count": 60,
     "metadata": {},
     "output_type": "execute_result"
    }
   ],
   "source": [
    "my_name = ['T', 'O', 'B', 'I', 'N', ' ', 'W', 'A', 'I', 'N', 'E', 'R']\n",
    "\n",
    "len(my_name)"
   ]
  },
  {
   "cell_type": "code",
   "execution_count": 61,
   "id": "bdc26602-9b02-48c5-a21b-abc9cf341902",
   "metadata": {},
   "outputs": [
    {
     "data": {
      "text/plain": [
       "'T'"
      ]
     },
     "execution_count": 61,
     "metadata": {},
     "output_type": "execute_result"
    }
   ],
   "source": [
    "my_name[0]"
   ]
  },
  {
   "cell_type": "code",
   "execution_count": null,
   "id": "433b2477-e71c-41c6-a41e-ebb23a9484ec",
   "metadata": {},
   "outputs": [],
   "source": []
  },
  {
   "cell_type": "code",
   "execution_count": 62,
   "id": "d54fd9b5-e4f8-4a30-8f87-21e7dd6b993c",
   "metadata": {},
   "outputs": [
    {
     "data": {
      "text/plain": [
       "'R'"
      ]
     },
     "execution_count": 62,
     "metadata": {},
     "output_type": "execute_result"
    }
   ],
   "source": [
    "my_name[len(my_name) - 1]"
   ]
  },
  {
   "cell_type": "code",
   "execution_count": 63,
   "id": "03a7758c-0f82-495d-bb99-ea5cdcff6f94",
   "metadata": {},
   "outputs": [
    {
     "data": {
      "text/plain": [
       "'R'"
      ]
     },
     "execution_count": 63,
     "metadata": {},
     "output_type": "execute_result"
    }
   ],
   "source": [
    "my_name[-1]"
   ]
  },
  {
   "cell_type": "code",
   "execution_count": 1,
   "id": "32ad6c3e",
   "metadata": {},
   "outputs": [],
   "source": [
    "# Set your full name to a variable, and make that variable into a list"
   ]
  },
  {
   "cell_type": "code",
   "execution_count": null,
   "id": "e84f3e7d",
   "metadata": {},
   "outputs": [],
   "source": [
    "# Get the second letter in your name"
   ]
  },
  {
   "cell_type": "code",
   "execution_count": null,
   "id": "1f1cc657-691f-45c9-9490-b862adf5c926",
   "metadata": {},
   "outputs": [],
   "source": []
  },
  {
   "cell_type": "code",
   "execution_count": 64,
   "id": "18812c71-6771-49af-b4fa-8b58c73b79fc",
   "metadata": {},
   "outputs": [
    {
     "data": {
      "text/plain": [
       "'O'"
      ]
     },
     "execution_count": 64,
     "metadata": {},
     "output_type": "execute_result"
    }
   ],
   "source": [
    "my_name[1]"
   ]
  },
  {
   "cell_type": "markdown",
   "id": "2777b274",
   "metadata": {},
   "source": [
    "What happens if you ask for the 100th element of the list (the 100th letter in your name)?"
   ]
  },
  {
   "cell_type": "code",
   "execution_count": 65,
   "id": "99b72ad0",
   "metadata": {},
   "outputs": [
    {
     "ename": "IndexError",
     "evalue": "list index out of range",
     "output_type": "error",
     "traceback": [
      "\u001b[31m---------------------------------------------------------------------------\u001b[39m",
      "\u001b[31mIndexError\u001b[39m                                Traceback (most recent call last)",
      "\u001b[36mCell\u001b[39m\u001b[36m \u001b[39m\u001b[32mIn[65]\u001b[39m\u001b[32m, line 1\u001b[39m\n\u001b[32m----> \u001b[39m\u001b[32m1\u001b[39m \u001b[43mmy_name\u001b[49m\u001b[43m[\u001b[49m\u001b[32;43m100\u001b[39;49m\u001b[43m]\u001b[49m\n",
      "\u001b[31mIndexError\u001b[39m: list index out of range"
     ]
    }
   ],
   "source": [
    "my_name[100]"
   ]
  },
  {
   "cell_type": "code",
   "execution_count": 70,
   "id": "28915d1c-d287-4234-af55-0223b7a73dbe",
   "metadata": {},
   "outputs": [
    {
     "data": {
      "text/plain": [
       "['T', 'O', 'B', 'I', 'N', ' ', 'W', 'A', 'I', 'N', 'E', 'R']"
      ]
     },
     "execution_count": 70,
     "metadata": {},
     "output_type": "execute_result"
    }
   ],
   "source": [
    "my_name[0]"
   ]
  },
  {
   "cell_type": "markdown",
   "id": "6e1ef3cd",
   "metadata": {},
   "source": [
    "### Give me everything starting from\n",
    "\n",
    "Sometimes you might want to select multiple elements of a list, rather than just one. You can get all elements starting with, for example, the third element by doing `name_list[2:]`. Try getting all the letters in your name starting from the second letter in your name."
   ]
  },
  {
   "cell_type": "code",
   "execution_count": 2,
   "id": "70a68040",
   "metadata": {},
   "outputs": [],
   "source": [
    "# Get every letter in your name starting from the second letter in your name"
   ]
  },
  {
   "cell_type": "code",
   "execution_count": 71,
   "id": "6891434d-5814-4300-83ad-37ad947e72b3",
   "metadata": {},
   "outputs": [
    {
     "data": {
      "text/plain": [
       "['B', 'I', 'N', ' ', 'W', 'A', 'I', 'N', 'E', 'R']"
      ]
     },
     "execution_count": 71,
     "metadata": {},
     "output_type": "execute_result"
    }
   ],
   "source": [
    "my_name[2:]"
   ]
  },
  {
   "cell_type": "markdown",
   "id": "cc695c44",
   "metadata": {},
   "source": [
    "### Give me everything up to\n",
    "\n",
    "In the opposite case, you can get every element of a list up to (but not including) an element by putting the index of the element you want everything up to after the colon, like so: `name_list[:5]` gives me all the letters of my name, up to (but not including) the sixth letter in my name. Try getting all the letters in your name up to but not including the tenth letter of your name."
   ]
  },
  {
   "cell_type": "code",
   "execution_count": 72,
   "id": "48be7a52",
   "metadata": {},
   "outputs": [
    {
     "data": {
      "text/plain": [
       "['T', 'O', 'B', 'I', 'N']"
      ]
     },
     "execution_count": 72,
     "metadata": {},
     "output_type": "execute_result"
    }
   ],
   "source": [
    "# Get every letter in your name up to the tenth letter in your name with slicing\n",
    "\n",
    "my_name[:5]"
   ]
  },
  {
   "cell_type": "code",
   "execution_count": 73,
   "id": "9ef10725-aeb4-4f6b-a763-4c0403c4b3b4",
   "metadata": {},
   "outputs": [
    {
     "data": {
      "text/plain": [
       "['T', 'O', 'B', 'I', 'N', ' ', 'W', 'A', 'I', 'N', 'E', 'R']"
      ]
     },
     "execution_count": 73,
     "metadata": {},
     "output_type": "execute_result"
    }
   ],
   "source": [
    "my_name[:len(my_name)]"
   ]
  },
  {
   "cell_type": "code",
   "execution_count": 75,
   "id": "0cf356dd-58c1-416f-96b9-d554f532087f",
   "metadata": {},
   "outputs": [
    {
     "data": {
      "text/plain": [
       "['T', 'O', 'B', 'I', 'N', ' ', 'W', 'A', 'I', 'N']"
      ]
     },
     "execution_count": 75,
     "metadata": {},
     "output_type": "execute_result"
    }
   ],
   "source": [
    "my_name[:-2]"
   ]
  },
  {
   "cell_type": "markdown",
   "id": "bff25854",
   "metadata": {},
   "source": [
    "### Give me everything starting from and up to\n",
    "\n",
    "You can combine the above two statements to get a range of elements in a list. Try getting the letters in your name starting from the second letter in your name up to (but not including) the fourth letter of your name."
   ]
  },
  {
   "cell_type": "code",
   "execution_count": null,
   "id": "1979e9f5",
   "metadata": {},
   "outputs": [],
   "source": [
    "# Get every letter in your name starting from the second letter up to tenth letter with slicing"
   ]
  },
  {
   "cell_type": "code",
   "execution_count": null,
   "id": "dd2825dd",
   "metadata": {},
   "outputs": [],
   "source": [
    "start_second_letter : end_fourth_Letter"
   ]
  },
  {
   "cell_type": "code",
   "execution_count": 77,
   "id": "fc9ea790-2dbf-4c1b-894f-fd5e0cae59af",
   "metadata": {},
   "outputs": [
    {
     "data": {
      "text/plain": [
       "['O', 'B', 'I']"
      ]
     },
     "execution_count": 77,
     "metadata": {},
     "output_type": "execute_result"
    }
   ],
   "source": [
    "my_name[1:4]"
   ]
  },
  {
   "cell_type": "code",
   "execution_count": 80,
   "id": "064b4bd7-013c-49d5-a5aa-323396b5c1a0",
   "metadata": {},
   "outputs": [
    {
     "data": {
      "text/plain": [
       "[3, 4, 5, 6]"
      ]
     },
     "execution_count": 80,
     "metadata": {},
     "output_type": "execute_result"
    }
   ],
   "source": [
    "number_lists = [ 1, 2,3,4,5,6,7] \n",
    "\n",
    "number_lists[2:6]"
   ]
  },
  {
   "cell_type": "markdown",
   "id": "3e2b32bc",
   "metadata": {},
   "source": [
    "# Python packages\n",
    "\n",
    "\n",
    "We do specialized tasks in Python with <b>package</b>. A package is a collection of Python functions that someone wrote and bundled together for you to use. Some of the Python packages that we'll learn to use include: \n",
    "\n",
    "| Package | Uses                     |\n",
    "|---------|--------------------------|\n",
    "| `numpy` | Math with arrays (more on this below) | \n",
    "| `scipy` | A math toolkit built for use by scientists | \n",
    "| `matplotlib` | Visualization (plotting!) | \n",
    "| `astropy` | Astronomy-specific functions of all kinds | \n",
    "\n",
    "## Numpy\n",
    "\n",
    "Numpy is the most important package that we're going to teach you about, because it allows you to do calculations very quickly with Python. Below, we'll discover why it's useful.\n",
    "\n",
    "*** \n",
    "\n",
    "Let's say you want to take the _sine_ or _cosine_ of an angle. There are numpy function that do this for you. \n",
    "\n",
    "To gain access to numpy's functions, you always need to do this command first: \n",
    "```python\n",
    "import numpy as np\n",
    "```\n",
    "Run the line above in the cell below: "
   ]
  },
  {
   "cell_type": "code",
   "execution_count": 81,
   "id": "bdcfb9f2",
   "metadata": {},
   "outputs": [],
   "source": [
    "import numpy as np"
   ]
  },
  {
   "cell_type": "code",
   "execution_count": 83,
   "id": "336d5dee-ebb8-4fc8-a10a-c99299665b2a",
   "metadata": {},
   "outputs": [],
   "source": [
    "import numpy as np"
   ]
  },
  {
   "cell_type": "markdown",
   "id": "c47966e9",
   "metadata": {},
   "source": [
    "Now there's a _package_ stored in the variable called `np` that we can access anywhere in this notebook. There are <b>functions</b> for $\\sin$ and $\\cos$ that live within numpy. The way to access a function within a package is by calling the package name with a period after it, then the name of the function you want. So for $\\sin$, you can do: \n",
    "```python\n",
    "np.sin(0)\n",
    "```\n",
    "The `np.` part says \"give me this function from numpy\". The `sin()` part says \"the function that I want to use is $\\sin$\", and the `0` is the angle that we want to take the $\\sin$ of, in units of radians."
   ]
  },
  {
   "cell_type": "code",
   "execution_count": 84,
   "id": "c65e83a1",
   "metadata": {},
   "outputs": [
    {
     "data": {
      "text/plain": [
       "np.float64(1.0)"
      ]
     },
     "execution_count": 84,
     "metadata": {},
     "output_type": "execute_result"
    }
   ],
   "source": [
    "np.cos(0)"
   ]
  },
  {
   "cell_type": "markdown",
   "id": "39926a35",
   "metadata": {},
   "source": [
    "Numpy also has some built-in numbers that you might use. For example, $\\pi$ is stored (to high precision!), in `np.pi`. Print out numpy's $\\pi$ in the cell below: "
   ]
  },
  {
   "cell_type": "code",
   "execution_count": 85,
   "id": "5cb7359b",
   "metadata": {},
   "outputs": [
    {
     "data": {
      "text/plain": [
       "3.141592653589793"
      ]
     },
     "execution_count": 85,
     "metadata": {},
     "output_type": "execute_result"
    }
   ],
   "source": [
    "np.pi"
   ]
  },
  {
   "cell_type": "markdown",
   "id": "d301abb4",
   "metadata": {},
   "source": [
    "Now let's say you had a list of angles, like `angles`$= [0, \\pi/2, \\pi, 3\\pi/2, 2\\pi]$. You could call `np.sin(angles[0])` to get the $\\sin$ of the first angle, then `np.sin(angles[1])` on the second angle, etc. But that would be a really slow way to do it! \n",
    "\n",
    "### Arrays\n",
    "\n",
    "The quick way is to create a <b>numpy array</b>. A numpy array is a vector or matrix of numbers, similar to the built in Python lists we saw in the last lesson. ```numpy``` can act on arrays more efficiently than Python can with ordinary lists.\n",
    "\n",
    "Let's make a numpy array filled with the angles above:\n",
    "```python\n",
    "# First, here's the list that we want to have an array of: \n",
    "angle_list = [0, 1/2 * np.pi, np.pi, 3/2 * np.pi, 2 * np.pi]\n",
    "\n",
    "# Here's how we make a numpy array out of the list\n",
    "angle_array = np.array(angle_list)\n",
    "```\n",
    "Write out those lines in the cell below. "
   ]
  },
  {
   "cell_type": "code",
   "execution_count": 91,
   "id": "474fdcc9-3c4c-40bc-a7ef-59efb5f54515",
   "metadata": {},
   "outputs": [
    {
     "data": {
      "text/plain": [
       "numpy.ndarray"
      ]
     },
     "execution_count": 91,
     "metadata": {},
     "output_type": "execute_result"
    }
   ],
   "source": [
    "angle_list = [0, 1/2 * np.pi, np.pi, 3/2 * np.pi, 2 * np.pi]\n",
    "\n",
    "angle_array = np.array(angle_list)\n",
    "\n",
    "type(angle_array)"
   ]
  },
  {
   "cell_type": "code",
   "execution_count": null,
   "id": "1f437d2a-c3e9-4e7b-b1d1-3adce894f9b3",
   "metadata": {},
   "outputs": [],
   "source": []
  },
  {
   "cell_type": "code",
   "execution_count": null,
   "id": "199ed481-5de8-459e-a28b-c9bc6e57107e",
   "metadata": {},
   "outputs": [],
   "source": []
  },
  {
   "cell_type": "code",
   "execution_count": 41,
   "id": "1dbf4717",
   "metadata": {},
   "outputs": [
    {
     "name": "stdout",
     "output_type": "stream",
     "text": [
      "[0, 1.5707963267948966, 3.141592653589793, 4.71238898038469, 6.283185307179586]\n"
     ]
    }
   ],
   "source": [
    "angle_list = [0, np.pi/2, np.pi, 3*np.pi/2, 2*np.pi]\n",
    "print(angle_list)"
   ]
  },
  {
   "cell_type": "code",
   "execution_count": 43,
   "id": "63beba05",
   "metadata": {},
   "outputs": [
    {
     "name": "stdout",
     "output_type": "stream",
     "text": [
      "[0.         1.57079633 3.14159265 4.71238898 6.28318531]\n"
     ]
    }
   ],
   "source": [
    "angle_array = np.array(angle_list)\n",
    "print(angle_array)"
   ]
  },
  {
   "cell_type": "code",
   "execution_count": 92,
   "id": "890d1f19",
   "metadata": {},
   "outputs": [
    {
     "data": {
      "text/plain": [
       "array([2.        , 3.57079633, 5.14159265, 6.71238898, 8.28318531])"
      ]
     },
     "execution_count": 92,
     "metadata": {},
     "output_type": "execute_result"
    }
   ],
   "source": [
    "angle_array + 2"
   ]
  },
  {
   "cell_type": "code",
   "execution_count": 93,
   "id": "22463f02-214e-43bc-997e-a9e934353a5f",
   "metadata": {},
   "outputs": [
    {
     "data": {
      "text/plain": [
       "array([0.        , 0.78539816, 1.57079633, 2.35619449, 3.14159265])"
      ]
     },
     "execution_count": 93,
     "metadata": {},
     "output_type": "execute_result"
    }
   ],
   "source": [
    "angle_array / 2"
   ]
  },
  {
   "cell_type": "code",
   "execution_count": null,
   "id": "839267cf-661e-4102-bb0c-75b4f43a10a0",
   "metadata": {},
   "outputs": [],
   "source": []
  },
  {
   "cell_type": "code",
   "execution_count": 49,
   "id": "57318835",
   "metadata": {},
   "outputs": [
    {
     "name": "stdout",
     "output_type": "stream",
     "text": [
      "<class 'list'>\n"
     ]
    }
   ],
   "source": [
    "print(type(angle_list))"
   ]
  },
  {
   "cell_type": "code",
   "execution_count": 50,
   "id": "d647d086",
   "metadata": {},
   "outputs": [
    {
     "name": "stdout",
     "output_type": "stream",
     "text": [
      "<class 'numpy.ndarray'>\n"
     ]
    }
   ],
   "source": [
    "print(type(angle_array))"
   ]
  },
  {
   "cell_type": "code",
   "execution_count": 94,
   "id": "6c625178",
   "metadata": {},
   "outputs": [
    {
     "name": "stdout",
     "output_type": "stream",
     "text": [
      "5\n"
     ]
    }
   ],
   "source": [
    "print(len(angle_array))"
   ]
  },
  {
   "cell_type": "code",
   "execution_count": 95,
   "id": "fa117c7c",
   "metadata": {},
   "outputs": [
    {
     "name": "stdout",
     "output_type": "stream",
     "text": [
      "3.141592653589793\n"
     ]
    }
   ],
   "source": [
    "print( angle_array[2] )"
   ]
  },
  {
   "cell_type": "code",
   "execution_count": 53,
   "id": "105f1b29",
   "metadata": {},
   "outputs": [
    {
     "name": "stdout",
     "output_type": "stream",
     "text": [
      "[ 0.          3.14159265  6.28318531  9.42477796 12.56637061]\n"
     ]
    }
   ],
   "source": [
    "print( angle_array * 2 )"
   ]
  },
  {
   "cell_type": "markdown",
   "id": "f3ae5a21",
   "metadata": {},
   "source": [
    "Let's break down the command `np.array(angle_list)`. The `np.` says we're going to use a function from numpy, the `array()` says we're going to make an array out of the thing in the parentheses, and the `angle_list` is the _input_ or the <b>argument</b> of the function.\n",
    "\n",
    "The reason you want to put your data into an array, is because it's much easier to do math with arrays than with lists, for example:"
   ]
  },
  {
   "cell_type": "code",
   "execution_count": null,
   "id": "1f2adb42",
   "metadata": {},
   "outputs": [],
   "source": [
    "print(angle_list / 2)"
   ]
  },
  {
   "cell_type": "code",
   "execution_count": null,
   "id": "8fc055e9",
   "metadata": {},
   "outputs": [],
   "source": [
    "print(angle_array / 2)"
   ]
  },
  {
   "cell_type": "code",
   "execution_count": null,
   "id": "7087947c-0e22-4a69-ad96-1d3746759efb",
   "metadata": {},
   "outputs": [],
   "source": []
  },
  {
   "cell_type": "code",
   "execution_count": 98,
   "id": "64260ed0-80c1-442a-bccb-9762af341f6d",
   "metadata": {},
   "outputs": [
    {
     "name": "stdout",
     "output_type": "stream",
     "text": [
      "['T' 'O' 'B' 'I' 'N' ' ' 'W' 'A' 'I' 'N' 'E' 'R']\n"
     ]
    }
   ],
   "source": [
    "my_name_array = np.array(my_name)\n",
    "\n",
    "print(my_name_array)"
   ]
  },
  {
   "cell_type": "markdown",
   "id": "8b65fc80",
   "metadata": {},
   "source": [
    "### Example 4: Calculations with arrays\n",
    "\n",
    "What is the $\\sin$ and $\\cos$ of each angle? Use the numpy array `angle_array` as the argument to the `np.sin` and `np.cos` functions in the cell below:"
   ]
  },
  {
   "cell_type": "code",
   "execution_count": 54,
   "id": "69f61f87",
   "metadata": {},
   "outputs": [
    {
     "name": "stdout",
     "output_type": "stream",
     "text": [
      "[0.         1.57079633 3.14159265 4.71238898 6.28318531]\n"
     ]
    }
   ],
   "source": [
    "print(angle_array)"
   ]
  },
  {
   "cell_type": "code",
   "execution_count": 99,
   "id": "6a5f0b9e",
   "metadata": {},
   "outputs": [
    {
     "data": {
      "text/plain": [
       "array([ 1.0000000e+00,  6.1232340e-17, -1.0000000e+00, -1.8369702e-16,\n",
       "        1.0000000e+00])"
      ]
     },
     "execution_count": 99,
     "metadata": {},
     "output_type": "execute_result"
    }
   ],
   "source": [
    "np.cos( angle_array )"
   ]
  },
  {
   "cell_type": "markdown",
   "id": "23361299",
   "metadata": {},
   "source": [
    "Now you might be saying - wait a minute, $\\sin(3\\pi/2) = 0$, not $\\approx$`1e-16`, what's that about? The short answer is - computers often get very very close to approximating the numbers that we actually want, but not all of the way there. You can get better precision if you tell the computer to use more memory. "
   ]
  },
  {
   "cell_type": "code",
   "execution_count": null,
   "id": "8898f6e5-50e3-48f0-ae66-b87658807d0f",
   "metadata": {},
   "outputs": [],
   "source": []
  },
  {
   "cell_type": "markdown",
   "id": "4f6e35f6",
   "metadata": {},
   "source": [
    "## More numpy commands\n",
    "\n",
    "Now you can do things with the numpy array that you couldn't do with a Python list. \n",
    "```python\n",
    "# Sum of all elements in the array:\n",
    "np.sum(angle_array)\n",
    "\n",
    "# Mean of all elements in the array:\n",
    "np.mean(angle_array)\n",
    "\n",
    "# Maximum of the elements in the array:\n",
    "np.max(angle_array)\n",
    "\n",
    "# Minimum of the elements in the array: \n",
    "np.min(angle_array)\n",
    "\n",
    "# Standard deviation of the elements in the array: \n",
    "np.std(angle_array)\n",
    "```\n",
    "Try running each of the above commands one-by-one in the cell below to see what they output."
   ]
  },
  {
   "cell_type": "code",
   "execution_count": null,
   "id": "66b8bc5c-a9e3-47d0-98b2-d7230196e2fe",
   "metadata": {},
   "outputs": [],
   "source": []
  },
  {
   "cell_type": "code",
   "execution_count": 113,
   "id": "7acbf7f1-3405-4f93-8bae-be72efc8c49d",
   "metadata": {},
   "outputs": [
    {
     "name": "stdout",
     "output_type": "stream",
     "text": [
      "67.33333333333333\n",
      "65.5\n"
     ]
    }
   ],
   "source": [
    "class_heights_array = np.array(class_heights)\n",
    "\n",
    "print(np.mean(class_heights_array))\n",
    "print(np.median(class_heights_array))"
   ]
  },
  {
   "cell_type": "code",
   "execution_count": null,
   "id": "c825a746",
   "metadata": {},
   "outputs": [],
   "source": []
  },
  {
   "cell_type": "markdown",
   "id": "a27a0b35",
   "metadata": {},
   "source": [
    "### Syntax Tips and Help ###\n",
    "So what happens when you forget the name of a `numpy` function, or the how to use a particular function? `Jupyter` has some cool built-in features that you should take advantage of!\n",
    "\n",
    "For example, say you forgot the name of the `sum` function -- you can type `np.` and then press `tab`, and you'll see that the notebook lists what functions are available in `numpy`! Spoiler alert, it's a loooong list since `numpy` has many functionalities. \n",
    "\n",
    "The point is you can use the `tab` tool (recall tab completion trick) to help you remember or recognize the function you're looking for. \n",
    "\n",
    "Just like how in `bash` environments you can read details on how to use a function with `man FUNCTIONNAME`, you can do that in `Python` as well. For example, say you forgot how to use the `np.sin` function -- you can type `np.sin?` + `Ctrl`+`return` and the notebook will return an inline window that tells you almost everything you need to know about the function. \n",
    "\n",
    "Try playing around with `np.` + `tab` and `np.cos?`, or any function with a `?` at the end, below."
   ]
  },
  {
   "cell_type": "code",
   "execution_count": 100,
   "id": "04e756a3",
   "metadata": {},
   "outputs": [
    {
     "data": {
      "text/plain": [
       "\u001b[31mCall signature:\u001b[39m  np.sin(*args, **kwargs)\n",
       "\u001b[31mType:\u001b[39m            ufunc\n",
       "\u001b[31mString form:\u001b[39m     <ufunc 'sin'>\n",
       "\u001b[31mFile:\u001b[39m            ~/miniconda3/lib/python3.12/site-packages/numpy/__init__.py\n",
       "\u001b[31mDocstring:\u001b[39m      \n",
       "sin(x, /, out=None, *, where=True, casting='same_kind', order='K', dtype=None, subok=True[, signature])\n",
       "\n",
       "Trigonometric sine, element-wise.\n",
       "\n",
       "Parameters\n",
       "----------\n",
       "x : array_like\n",
       "    Angle, in radians (:math:`2 \\pi` rad equals 360 degrees).\n",
       "out : ndarray, None, or tuple of ndarray and None, optional\n",
       "    A location into which the result is stored. If provided, it must have\n",
       "    a shape that the inputs broadcast to. If not provided or None,\n",
       "    a freshly-allocated array is returned. A tuple (possible only as a\n",
       "    keyword argument) must have length equal to the number of outputs.\n",
       "where : array_like, optional\n",
       "    This condition is broadcast over the input. At locations where the\n",
       "    condition is True, the `out` array will be set to the ufunc result.\n",
       "    Elsewhere, the `out` array will retain its original value.\n",
       "    Note that if an uninitialized `out` array is created via the default\n",
       "    ``out=None``, locations within it where the condition is False will\n",
       "    remain uninitialized.\n",
       "**kwargs\n",
       "    For other keyword-only arguments, see the\n",
       "    :ref:`ufunc docs <ufuncs.kwargs>`.\n",
       "\n",
       "Returns\n",
       "-------\n",
       "y : array_like\n",
       "    The sine of each element of x.\n",
       "    This is a scalar if `x` is a scalar.\n",
       "\n",
       "See Also\n",
       "--------\n",
       "arcsin, sinh, cos\n",
       "\n",
       "Notes\n",
       "-----\n",
       "The sine is one of the fundamental functions of trigonometry (the\n",
       "mathematical study of triangles).  Consider a circle of radius 1\n",
       "centered on the origin.  A ray comes in from the :math:`+x` axis, makes\n",
       "an angle at the origin (measured counter-clockwise from that axis), and\n",
       "departs from the origin.  The :math:`y` coordinate of the outgoing\n",
       "ray's intersection with the unit circle is the sine of that angle.  It\n",
       "ranges from -1 for :math:`x=3\\pi / 2` to +1 for :math:`\\pi / 2.`  The\n",
       "function has zeroes where the angle is a multiple of :math:`\\pi`.\n",
       "Sines of angles between :math:`\\pi` and :math:`2\\pi` are negative.\n",
       "The numerous properties of the sine and related functions are included\n",
       "in any standard trigonometry text.\n",
       "\n",
       "Examples\n",
       "--------\n",
       ">>> import numpy as np\n",
       "\n",
       "Print sine of one angle:\n",
       "\n",
       ">>> np.sin(np.pi/2.)\n",
       "1.0\n",
       "\n",
       "Print sines of an array of angles given in degrees:\n",
       "\n",
       ">>> np.sin(np.array((0., 30., 45., 60., 90.)) * np.pi / 180. )\n",
       "array([ 0.        ,  0.5       ,  0.70710678,  0.8660254 ,  1.        ])\n",
       "\n",
       "Plot the sine function:\n",
       "\n",
       ">>> import matplotlib.pylab as plt\n",
       ">>> x = np.linspace(-np.pi, np.pi, 201)\n",
       ">>> plt.plot(x, np.sin(x))\n",
       ">>> plt.xlabel('Angle [rad]')\n",
       ">>> plt.ylabel('sin(x)')\n",
       ">>> plt.axis('tight')\n",
       ">>> plt.show()\n",
       "\u001b[31mClass docstring:\u001b[39m\n",
       "Functions that operate element by element on whole arrays.\n",
       "\n",
       "To see the documentation for a specific ufunc, use `info`.  For\n",
       "example, ``np.info(np.sin)``.  Because ufuncs are written in C\n",
       "(for speed) and linked into Python with NumPy's ufunc facility,\n",
       "Python's help() function finds this page whenever help() is called\n",
       "on a ufunc.\n",
       "\n",
       "A detailed explanation of ufuncs can be found in the docs for :ref:`ufuncs`.\n",
       "\n",
       "**Calling ufuncs:** ``op(*x[, out], where=True, **kwargs)``\n",
       "\n",
       "Apply `op` to the arguments `*x` elementwise, broadcasting the arguments.\n",
       "\n",
       "The broadcasting rules are:\n",
       "\n",
       "* Dimensions of length 1 may be prepended to either array.\n",
       "* Arrays may be repeated along dimensions of length 1.\n",
       "\n",
       "Parameters\n",
       "----------\n",
       "*x : array_like\n",
       "    Input arrays.\n",
       "out : ndarray, None, or tuple of ndarray and None, optional\n",
       "    Alternate array object(s) in which to put the result; if provided, it\n",
       "    must have a shape that the inputs broadcast to. A tuple of arrays\n",
       "    (possible only as a keyword argument) must have length equal to the\n",
       "    number of outputs; use None for uninitialized outputs to be\n",
       "    allocated by the ufunc.\n",
       "where : array_like, optional\n",
       "    This condition is broadcast over the input. At locations where the\n",
       "    condition is True, the `out` array will be set to the ufunc result.\n",
       "    Elsewhere, the `out` array will retain its original value.\n",
       "    Note that if an uninitialized `out` array is created via the default\n",
       "    ``out=None``, locations within it where the condition is False will\n",
       "    remain uninitialized.\n",
       "**kwargs\n",
       "    For other keyword-only arguments, see the :ref:`ufunc docs <ufuncs.kwargs>`.\n",
       "\n",
       "Returns\n",
       "-------\n",
       "r : ndarray or tuple of ndarray\n",
       "    `r` will have the shape that the arrays in `x` broadcast to; if `out` is\n",
       "    provided, it will be returned. If not, `r` will be allocated and\n",
       "    may contain uninitialized values. If the function has more than one\n",
       "    output, then the result will be a tuple of arrays."
      ]
     },
     "metadata": {},
     "output_type": "display_data"
    }
   ],
   "source": [
    "np.sin?"
   ]
  },
  {
   "cell_type": "markdown",
   "id": "cac1d285",
   "metadata": {},
   "source": [
    "## Array arithmetic\n",
    "\n",
    "There are lots of situations where you'll want to create a certain kind of array, and numpy has functions to help. \n",
    "\n",
    "You can make an array of consecutive integers from zero to nine with the function `np.arange`:\n",
    "```python\n",
    "consecutive_integers = np.arange(10)\n",
    "```\n",
    "Just like with indexing to some endpoint, you tell python what number you want it to stop before."
   ]
  },
  {
   "cell_type": "code",
   "execution_count": 105,
   "id": "0e8788a9",
   "metadata": {},
   "outputs": [
    {
     "data": {
      "text/plain": [
       "array([0, 3, 6, 9])"
      ]
     },
     "execution_count": 105,
     "metadata": {},
     "output_type": "execute_result"
    }
   ],
   "source": [
    "np.arange(0,10,3)"
   ]
  },
  {
   "cell_type": "markdown",
   "id": "3891ae9b",
   "metadata": {},
   "source": [
    "Check it out, numpy did all the work for me, I didn't have to write down all the integers.\n",
    "\n",
    "Now, this function is very flexible. You can give it 3 <b>arguments</b> instead of 1 and those 3 numbers will signify `np.arange(start, stop, step)`. For example, `np.arange(1, 9, 2)` would start at 1, stop before 9, with a step size of 2 (giving you every second number), so it would return `[1, 3, 5, 7]"
   ]
  },
  {
   "cell_type": "code",
   "execution_count": null,
   "id": "d203fa7f-00da-43a1-8399-4ed2335221a5",
   "metadata": {},
   "outputs": [],
   "source": []
  },
  {
   "cell_type": "code",
   "execution_count": 108,
   "id": "fec54b7f-587a-4ebd-8eb4-321bd0f50231",
   "metadata": {},
   "outputs": [],
   "source": [
    " "
   ]
  },
  {
   "cell_type": "code",
   "execution_count": 109,
   "id": "eaa22438-a399-406b-8dc1-926a3de02bde",
   "metadata": {},
   "outputs": [
    {
     "data": {
      "text/plain": [
       "\u001b[31mType:\u001b[39m        module\n",
       "\u001b[31mString form:\u001b[39m <module 'scipy.optimize' from '/Users/tobinw/miniconda3/lib/python3.12/site-packages/scipy/optimize/__init__.py'>\n",
       "\u001b[31mFile:\u001b[39m        ~/miniconda3/lib/python3.12/site-packages/scipy/optimize/__init__.py\n",
       "\u001b[31mDocstring:\u001b[39m  \n",
       "=====================================================\n",
       "Optimization and root finding (:mod:`scipy.optimize`)\n",
       "=====================================================\n",
       "\n",
       ".. currentmodule:: scipy.optimize\n",
       "\n",
       ".. toctree::\n",
       "   :hidden:\n",
       "\n",
       "   optimize.cython_optimize\n",
       "\n",
       "SciPy ``optimize`` provides functions for minimizing (or maximizing)\n",
       "objective functions, possibly subject to constraints. It includes\n",
       "solvers for nonlinear problems (with support for both local and global\n",
       "optimization algorithms), linear programming, constrained\n",
       "and nonlinear least-squares, root finding, and curve fitting.\n",
       "\n",
       "Common functions and objects, shared across different solvers, are:\n",
       "\n",
       ".. autosummary::\n",
       "   :toctree: generated/\n",
       "\n",
       "   show_options - Show specific options optimization solvers.\n",
       "   OptimizeResult - The optimization result returned by some optimizers.\n",
       "   OptimizeWarning - The optimization encountered problems.\n",
       "\n",
       "\n",
       "Optimization\n",
       "============\n",
       "\n",
       "Scalar functions optimization\n",
       "-----------------------------\n",
       "\n",
       ".. autosummary::\n",
       "   :toctree: generated/\n",
       "\n",
       "   minimize_scalar - Interface for minimizers of univariate functions\n",
       "\n",
       "The `minimize_scalar` function supports the following methods:\n",
       "\n",
       ".. toctree::\n",
       "\n",
       "   optimize.minimize_scalar-brent\n",
       "   optimize.minimize_scalar-bounded\n",
       "   optimize.minimize_scalar-golden\n",
       "\n",
       "Local (multivariate) optimization\n",
       "---------------------------------\n",
       "\n",
       ".. autosummary::\n",
       "   :toctree: generated/\n",
       "\n",
       "   minimize - Interface for minimizers of multivariate functions.\n",
       "\n",
       "The `minimize` function supports the following methods:\n",
       "\n",
       ".. toctree::\n",
       "\n",
       "   optimize.minimize-neldermead\n",
       "   optimize.minimize-powell\n",
       "   optimize.minimize-cg\n",
       "   optimize.minimize-bfgs\n",
       "   optimize.minimize-newtoncg\n",
       "   optimize.minimize-lbfgsb\n",
       "   optimize.minimize-tnc\n",
       "   optimize.minimize-cobyla\n",
       "   optimize.minimize-cobyqa\n",
       "   optimize.minimize-slsqp\n",
       "   optimize.minimize-trustconstr\n",
       "   optimize.minimize-dogleg\n",
       "   optimize.minimize-trustncg\n",
       "   optimize.minimize-trustkrylov\n",
       "   optimize.minimize-trustexact\n",
       "\n",
       "Constraints are passed to `minimize` function as a single object or\n",
       "as a list of objects from the following classes:\n",
       "\n",
       ".. autosummary::\n",
       "   :toctree: generated/\n",
       "\n",
       "   NonlinearConstraint - Class defining general nonlinear constraints.\n",
       "   LinearConstraint - Class defining general linear constraints.\n",
       "\n",
       "Simple bound constraints are handled separately and there is a special class\n",
       "for them:\n",
       "\n",
       ".. autosummary::\n",
       "   :toctree: generated/\n",
       "\n",
       "   Bounds - Bound constraints.\n",
       "\n",
       "Quasi-Newton strategies implementing `HessianUpdateStrategy`\n",
       "interface can be used to approximate the Hessian in `minimize`\n",
       "function (available only for the 'trust-constr' method). Available\n",
       "quasi-Newton methods implementing this interface are:\n",
       "\n",
       ".. autosummary::\n",
       "   :toctree: generated/\n",
       "\n",
       "   BFGS - Broyden-Fletcher-Goldfarb-Shanno (BFGS) Hessian update strategy.\n",
       "   SR1 - Symmetric-rank-1 Hessian update strategy.\n",
       "\n",
       ".. _global_optimization:\n",
       "\n",
       "Global optimization\n",
       "-------------------\n",
       "\n",
       ".. autosummary::\n",
       "   :toctree: generated/\n",
       "\n",
       "   basinhopping - Basinhopping stochastic optimizer.\n",
       "   brute - Brute force searching optimizer.\n",
       "   differential_evolution - Stochastic optimizer using differential evolution.\n",
       "\n",
       "   shgo - Simplicial homology global optimizer.\n",
       "   dual_annealing - Dual annealing stochastic optimizer.\n",
       "   direct - DIRECT (Dividing Rectangles) optimizer.\n",
       "\n",
       "Least-squares and curve fitting\n",
       "===============================\n",
       "\n",
       "Nonlinear least-squares\n",
       "-----------------------\n",
       "\n",
       ".. autosummary::\n",
       "   :toctree: generated/\n",
       "\n",
       "   least_squares - Solve a nonlinear least-squares problem with bounds on the variables.\n",
       "\n",
       "Linear least-squares\n",
       "--------------------\n",
       "\n",
       ".. autosummary::\n",
       "   :toctree: generated/\n",
       "\n",
       "   nnls - Linear least-squares problem with non-negativity constraint.\n",
       "   lsq_linear - Linear least-squares problem with bound constraints.\n",
       "   isotonic_regression - Least squares problem of isotonic regression via PAVA.\n",
       "\n",
       "Curve fitting\n",
       "-------------\n",
       "\n",
       ".. autosummary::\n",
       "   :toctree: generated/\n",
       "\n",
       "   curve_fit -- Fit curve to a set of points.\n",
       "\n",
       "Root finding\n",
       "============\n",
       "\n",
       "Scalar functions\n",
       "----------------\n",
       ".. autosummary::\n",
       "   :toctree: generated/\n",
       "\n",
       "   root_scalar - Unified interface for nonlinear solvers of scalar functions.\n",
       "   brentq - quadratic interpolation Brent method.\n",
       "   brenth - Brent method, modified by Harris with hyperbolic extrapolation.\n",
       "   ridder - Ridder's method.\n",
       "   bisect - Bisection method.\n",
       "   newton - Newton's method (also Secant and Halley's methods).\n",
       "   toms748 - Alefeld, Potra & Shi Algorithm 748.\n",
       "   RootResults - The root finding result returned by some root finders.\n",
       "\n",
       "The `root_scalar` function supports the following methods:\n",
       "\n",
       ".. toctree::\n",
       "\n",
       "   optimize.root_scalar-brentq\n",
       "   optimize.root_scalar-brenth\n",
       "   optimize.root_scalar-bisect\n",
       "   optimize.root_scalar-ridder\n",
       "   optimize.root_scalar-newton\n",
       "   optimize.root_scalar-toms748\n",
       "   optimize.root_scalar-secant\n",
       "   optimize.root_scalar-halley\n",
       "\n",
       "\n",
       "\n",
       "The table below lists situations and appropriate methods, along with\n",
       "*asymptotic* convergence rates per iteration (and per function evaluation)\n",
       "for successful convergence to a simple root(*).\n",
       "Bisection is the slowest of them all, adding one bit of accuracy for each\n",
       "function evaluation, but is guaranteed to converge.\n",
       "The other bracketing methods all (eventually) increase the number of accurate\n",
       "bits by about 50% for every function evaluation.\n",
       "The derivative-based methods, all built on `newton`, can converge quite quickly\n",
       "if the initial value is close to the root.  They can also be applied to\n",
       "functions defined on (a subset of) the complex plane.\n",
       "\n",
       "+-------------+----------+----------+-----------+-------------+-------------+----------------+\n",
       "| Domain of f | Bracket? |    Derivatives?      | Solvers     |        Convergence           |\n",
       "+             +          +----------+-----------+             +-------------+----------------+\n",
       "|             |          | `fprime` | `fprime2` |             | Guaranteed? |  Rate(s)(*)    |\n",
       "+=============+==========+==========+===========+=============+=============+================+\n",
       "| `R`         | Yes      | N/A      | N/A       | - bisection | - Yes       | - 1 \"Linear\"   |\n",
       "|             |          |          |           | - brentq    | - Yes       | - >=1, <= 1.62 |\n",
       "|             |          |          |           | - brenth    | - Yes       | - >=1, <= 1.62 |\n",
       "|             |          |          |           | - ridder    | - Yes       | - 2.0 (1.41)   |\n",
       "|             |          |          |           | - toms748   | - Yes       | - 2.7 (1.65)   |\n",
       "+-------------+----------+----------+-----------+-------------+-------------+----------------+\n",
       "| `R` or `C`  | No       | No       | No        | secant      | No          | 1.62 (1.62)    |\n",
       "+-------------+----------+----------+-----------+-------------+-------------+----------------+\n",
       "| `R` or `C`  | No       | Yes      | No        | newton      | No          | 2.00 (1.41)    |\n",
       "+-------------+----------+----------+-----------+-------------+-------------+----------------+\n",
       "| `R` or `C`  | No       | Yes      | Yes       | halley      | No          | 3.00 (1.44)    |\n",
       "+-------------+----------+----------+-----------+-------------+-------------+----------------+\n",
       "\n",
       ".. seealso::\n",
       "\n",
       "   `scipy.optimize.cython_optimize` -- Typed Cython versions of root finding functions\n",
       "\n",
       "Fixed point finding:\n",
       "\n",
       ".. autosummary::\n",
       "   :toctree: generated/\n",
       "\n",
       "   fixed_point - Single-variable fixed-point solver.\n",
       "\n",
       "Multidimensional\n",
       "----------------\n",
       "\n",
       ".. autosummary::\n",
       "   :toctree: generated/\n",
       "\n",
       "   root - Unified interface for nonlinear solvers of multivariate functions.\n",
       "\n",
       "The `root` function supports the following methods:\n",
       "\n",
       ".. toctree::\n",
       "\n",
       "   optimize.root-hybr\n",
       "   optimize.root-lm\n",
       "   optimize.root-broyden1\n",
       "   optimize.root-broyden2\n",
       "   optimize.root-anderson\n",
       "   optimize.root-linearmixing\n",
       "   optimize.root-diagbroyden\n",
       "   optimize.root-excitingmixing\n",
       "   optimize.root-krylov\n",
       "   optimize.root-dfsane\n",
       "   \n",
       "Elementwise Minimization and Root Finding\n",
       "=========================================\n",
       "\n",
       ".. toctree::\n",
       "   :maxdepth: 3\n",
       "\n",
       "   optimize.elementwise\n",
       "\n",
       "Linear programming / MILP\n",
       "=========================\n",
       "\n",
       ".. autosummary::\n",
       "   :toctree: generated/\n",
       "\n",
       "   milp -- Mixed integer linear programming.\n",
       "   linprog -- Unified interface for minimizers of linear programming problems.\n",
       "\n",
       "The `linprog` function supports the following methods:\n",
       "\n",
       ".. toctree::\n",
       "\n",
       "   optimize.linprog-simplex\n",
       "   optimize.linprog-interior-point\n",
       "   optimize.linprog-revised_simplex\n",
       "   optimize.linprog-highs-ipm\n",
       "   optimize.linprog-highs-ds\n",
       "   optimize.linprog-highs\n",
       "\n",
       "The simplex, interior-point, and revised simplex methods support callback\n",
       "functions, such as:\n",
       "\n",
       ".. autosummary::\n",
       "   :toctree: generated/\n",
       "\n",
       "   linprog_verbose_callback -- Sample callback function for linprog (simplex).\n",
       "\n",
       "Assignment problems\n",
       "===================\n",
       "\n",
       ".. autosummary::\n",
       "   :toctree: generated/\n",
       "\n",
       "   linear_sum_assignment -- Solves the linear-sum assignment problem.\n",
       "   quadratic_assignment -- Solves the quadratic assignment problem.\n",
       "\n",
       "The `quadratic_assignment` function supports the following methods:\n",
       "\n",
       ".. toctree::\n",
       "\n",
       "   optimize.qap-faq\n",
       "   optimize.qap-2opt\n",
       "\n",
       "Utilities\n",
       "=========\n",
       "\n",
       "Finite-difference approximation\n",
       "-------------------------------\n",
       "\n",
       ".. autosummary::\n",
       "   :toctree: generated/\n",
       "\n",
       "   approx_fprime - Approximate the gradient of a scalar function.\n",
       "   check_grad - Check the supplied derivative using finite differences.\n",
       "\n",
       "\n",
       "Line search\n",
       "-----------\n",
       "\n",
       ".. autosummary::\n",
       "   :toctree: generated/\n",
       "\n",
       "   bracket - Bracket a minimum, given two starting points.\n",
       "   line_search - Return a step that satisfies the strong Wolfe conditions.\n",
       "\n",
       "Hessian approximation\n",
       "---------------------\n",
       "\n",
       ".. autosummary::\n",
       "   :toctree: generated/\n",
       "\n",
       "   LbfgsInvHessProduct - Linear operator for L-BFGS approximate inverse Hessian.\n",
       "   HessianUpdateStrategy - Interface for implementing Hessian update strategies\n",
       "\n",
       "Benchmark problems\n",
       "------------------\n",
       "\n",
       ".. autosummary::\n",
       "   :toctree: generated/\n",
       "\n",
       "   rosen - The Rosenbrock function.\n",
       "   rosen_der - The derivative of the Rosenbrock function.\n",
       "   rosen_hess - The Hessian matrix of the Rosenbrock function.\n",
       "   rosen_hess_prod - Product of the Rosenbrock Hessian with a vector.\n",
       "\n",
       "Legacy functions\n",
       "================\n",
       "\n",
       "The functions below are not recommended for use in new scripts;\n",
       "all of these methods are accessible via a newer, more consistent\n",
       "interfaces, provided by the interfaces above.\n",
       "\n",
       "Optimization\n",
       "------------\n",
       "\n",
       "General-purpose multivariate methods:\n",
       "\n",
       ".. autosummary::\n",
       "   :toctree: generated/\n",
       "\n",
       "   fmin - Nelder-Mead Simplex algorithm.\n",
       "   fmin_powell - Powell's (modified) conjugate direction method.\n",
       "   fmin_cg - Non-linear (Polak-Ribiere) conjugate gradient algorithm.\n",
       "   fmin_bfgs - Quasi-Newton method (Broydon-Fletcher-Goldfarb-Shanno).\n",
       "   fmin_ncg - Line-search Newton Conjugate Gradient.\n",
       "\n",
       "Constrained multivariate methods:\n",
       "\n",
       ".. autosummary::\n",
       "   :toctree: generated/\n",
       "\n",
       "   fmin_l_bfgs_b - Zhu, Byrd, and Nocedal's constrained optimizer.\n",
       "   fmin_tnc - Truncated Newton code.\n",
       "   fmin_cobyla - Constrained optimization by linear approximation.\n",
       "   fmin_slsqp - Minimization using sequential least-squares programming.\n",
       "\n",
       "Univariate (scalar) minimization methods:\n",
       "\n",
       ".. autosummary::\n",
       "   :toctree: generated/\n",
       "\n",
       "   fminbound - Bounded minimization of a scalar function.\n",
       "   brent - 1-D function minimization using Brent method.\n",
       "   golden - 1-D function minimization using Golden Section method.\n",
       "\n",
       "Least-squares\n",
       "-------------\n",
       "\n",
       ".. autosummary::\n",
       "   :toctree: generated/\n",
       "\n",
       "   leastsq - Minimize the sum of squares of M equations in N unknowns.\n",
       "\n",
       "Root finding\n",
       "------------\n",
       "\n",
       "General nonlinear solvers:\n",
       "\n",
       ".. autosummary::\n",
       "   :toctree: generated/\n",
       "\n",
       "   fsolve - Non-linear multivariable equation solver.\n",
       "   broyden1 - Broyden's first method.\n",
       "   broyden2 - Broyden's second method.\n",
       "   NoConvergence -  Exception raised when nonlinear solver does not converge.\n",
       "\n",
       "Large-scale nonlinear solvers:\n",
       "\n",
       ".. autosummary::\n",
       "   :toctree: generated/\n",
       "\n",
       "   newton_krylov\n",
       "   anderson\n",
       "\n",
       "   BroydenFirst\n",
       "   InverseJacobian\n",
       "   KrylovJacobian\n",
       "\n",
       "Simple iteration solvers:\n",
       "\n",
       ".. autosummary::\n",
       "   :toctree: generated/\n",
       "\n",
       "   excitingmixing\n",
       "   linearmixing\n",
       "   diagbroyden"
      ]
     },
     "metadata": {},
     "output_type": "display_data"
    }
   ],
   "source": []
  },
  {
   "cell_type": "code",
   "execution_count": null,
   "id": "73324e4e",
   "metadata": {},
   "outputs": [],
   "source": []
  },
  {
   "cell_type": "code",
   "execution_count": null,
   "id": "1933064e-9342-4218-a748-c90751723658",
   "metadata": {},
   "outputs": [],
   "source": [
    "np.array([0,1,3])"
   ]
  },
  {
   "cell_type": "code",
   "execution_count": 107,
   "id": "43970609-2f7e-46bd-a120-4360e22ba787",
   "metadata": {},
   "outputs": [
    {
     "data": {
      "text/plain": [
       "array(['T', 'O', 'I'], dtype='<U1')"
      ]
     },
     "execution_count": 107,
     "metadata": {},
     "output_type": "execute_result"
    }
   ],
   "source": [
    "my_name_array[np.array([0,1,3])]"
   ]
  },
  {
   "cell_type": "code",
   "execution_count": null,
   "id": "145282c6-5f91-400d-a9dd-5a3c5d025e59",
   "metadata": {},
   "outputs": [],
   "source": []
  },
  {
   "cell_type": "code",
   "execution_count": null,
   "id": "69fb491c-2b34-4241-b6e4-6c4c51b2f02e",
   "metadata": {},
   "outputs": [],
   "source": []
  }
 ],
 "metadata": {
  "kernelspec": {
   "display_name": "Python 3 (ipykernel)",
   "language": "python",
   "name": "python3"
  },
  "language_info": {
   "codemirror_mode": {
    "name": "ipython",
    "version": 3
   },
   "file_extension": ".py",
   "mimetype": "text/x-python",
   "name": "python",
   "nbconvert_exporter": "python",
   "pygments_lexer": "ipython3",
   "version": "3.12.2"
  }
 },
 "nbformat": 4,
 "nbformat_minor": 5
}
