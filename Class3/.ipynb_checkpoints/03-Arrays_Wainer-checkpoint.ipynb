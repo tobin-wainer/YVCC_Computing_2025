{
 "cells": [
  {
   "cell_type": "markdown",
   "id": "b6100b0a",
   "metadata": {},
   "source": [
    "# Motivation: Running a function on data\n",
    "\n",
    "\n",
    "<b>Vocabulary</b>\n",
    "<ul>\n",
    "    <li>list</li>\n",
    "    <li>element</li>\n",
    "    <li>index</li>\n",
    "    <li>slice</li>\n",
    "    <li>boolean</li>\n",
    "    <li>package</li>\n",
    "    <li>numpy</li>\n",
    "</ul>"
   ]
  },
  {
   "cell_type": "markdown",
   "id": "cef8ccfa",
   "metadata": {},
   "source": [
    "# Lists\n",
    "\n",
    "You can now use Python as a calculator, but it's more useful than a handheld calculator only when you have lots of numbers to work with. You can store a group of numbers, or groups of other things, in a type called a `list`. \n",
    "\n",
    "A list is a collection of things (they can have any type, including `int`s, `float`s, `str`s. They are separated by commas and bracketed with square brackets (`[` and `]`), like this: \n",
    "```python\n",
    "shopping_list = ['apple', 'banana', 'cherry']\n",
    "```\n",
    "\n",
    "Each individual thing in a list is called an <b>element</b> of that list.\n",
    "\n",
    "Can a few people tell us their heights? We can create a list of these heights, and print the list: "
   ]
  },
  {
   "cell_type": "code",
   "execution_count": null,
   "id": "0f696be0",
   "metadata": {},
   "outputs": [],
   "source": []
  },
  {
   "cell_type": "markdown",
   "id": "f429b1ba",
   "metadata": {},
   "source": [
    "With these heights, we've created data! Lists are a common way to store data, because they give us a way to order numbers. A list is just like a single column in a spreadsheet.\n",
    "\n",
    "Many times you'll want to check how many elements are in your list, which you do with the `len` function, like this: \n",
    "```python\n",
    "len(class_heights)\n",
    "```\n",
    "Try that in the cell below: "
   ]
  },
  {
   "cell_type": "code",
   "execution_count": null,
   "id": "0f5be76e",
   "metadata": {},
   "outputs": [],
   "source": []
  },
  {
   "cell_type": "markdown",
   "id": "7c0be013",
   "metadata": {},
   "source": [
    "Python has a _function_ for taking the `sum` of the numbers in a list. Let's take the sum of the heights with the following command: \n",
    "```python\n",
    "sum(class_heights)\n",
    "```\n",
    "### Example 1: Sum of a list\n",
    "\n",
    "How many inches tall would our class be if we all stood one on top of each other (take the sum of the heights)? Store the answer in a variable with a sensible name (remember guidelines from above!), and print the result: "
   ]
  },
  {
   "cell_type": "code",
   "execution_count": null,
   "id": "9f93c849",
   "metadata": {},
   "outputs": [],
   "source": []
  },
  {
   "cell_type": "markdown",
   "id": "33ddce83",
   "metadata": {},
   "source": [
    "*** \n",
    "\n",
    "## Adding items to a list\n",
    "\n",
    "Let's say someone new transferred into the class, and you want to add their height to the `class_heights` list. We can do that with the `append` function, which you call like this:\n",
    "```python\n",
    "new_height = 65\n",
    "class_heights.append(new_height)\n",
    "print(class_heights)\n",
    "```\n",
    "In the second line, `class_heights` is the list that we're _appending_ a new number to, `.append()` says to append the number in parentheses onto `class_heights`.\n",
    "\n",
    "Copy and paste the code above into the cell below **and execute the cell once**, to see the output."
   ]
  },
  {
   "cell_type": "code",
   "execution_count": null,
   "id": "270adf80",
   "metadata": {},
   "outputs": [],
   "source": []
  },
  {
   "cell_type": "code",
   "execution_count": null,
   "id": "056c49f2",
   "metadata": {},
   "outputs": [],
   "source": []
  },
  {
   "cell_type": "markdown",
   "id": "57c057d8",
   "metadata": {},
   "source": [
    "### Example 2:\n",
    "\n",
    "What would happen if you executed the cell above a second time? Try it and check your answer."
   ]
  },
  {
   "cell_type": "code",
   "execution_count": null,
   "id": "4996ec4c",
   "metadata": {},
   "outputs": [],
   "source": []
  },
  {
   "cell_type": "code",
   "execution_count": null,
   "id": "17948489",
   "metadata": {},
   "outputs": [],
   "source": []
  },
  {
   "cell_type": "markdown",
   "id": "7df89bd8",
   "metadata": {},
   "source": [
    "## List indexing and slicing\n",
    "\n",
    "Often you'll want to be able to take a single *element*, or a few elements out of a list. To do that, you do what we call *indexing* or *slicing*. \n",
    "\n",
    "Let's work with a list using your name rather than `class_heights`.\n",
    "\n",
    "To get a specific element from the list `full_name`, we put square brackets next to the name of the list, and we put the _index_ of the element that we want inside the brackets. The index starts at **zero for the first element**, one for the second element, etc.: \n",
    "```python\n",
    "first_element = full_name[0]\n",
    "print(first_element)\n",
    "```\n",
    "\n",
    "To help you remember, that python starts at 0 (so the first element is indexed by 0):\n",
    "```python\n",
    "# Index =   0    1    2    3    4    5    6    7    8 \n",
    "astr192 = ['Y', 'U', 'P', 'R', 'A', '2', '0', '2', '4']\n",
    "```\n",
    "\n",
    "### Example 3: Zero-based indexing\n",
    "\n",
    "1. Type your full name in a string, store it in the variable `full_name`\n",
    "2. You can cast that string into a list of strings by doing this: \n",
    "```python\n",
    "full_name = \"YUPRA\"\n",
    "name_list = list(name)\n",
    "print(name_list)\n",
    "```\n",
    "which yields `['Y', 'U', 'P', 'R', 'A']`. Do this to make a list out of your name.\n",
    "3. Get the second letter in your name using indexing."
   ]
  },
  {
   "cell_type": "code",
   "execution_count": 1,
   "id": "32ad6c3e",
   "metadata": {},
   "outputs": [],
   "source": [
    "# Set your full name to a variable, and make that variable into a list"
   ]
  },
  {
   "cell_type": "code",
   "execution_count": null,
   "id": "e84f3e7d",
   "metadata": {},
   "outputs": [],
   "source": [
    "# Get the second letter in your name"
   ]
  },
  {
   "cell_type": "markdown",
   "id": "2777b274",
   "metadata": {},
   "source": [
    "What happens if you ask for the 100th element of the list (the 100th letter in your name)?"
   ]
  },
  {
   "cell_type": "code",
   "execution_count": null,
   "id": "99b72ad0",
   "metadata": {},
   "outputs": [],
   "source": []
  },
  {
   "cell_type": "markdown",
   "id": "6e1ef3cd",
   "metadata": {},
   "source": [
    "### Give me everything starting from\n",
    "\n",
    "Sometimes you might want to select multiple elements of a list, rather than just one. You can get all elements starting with, for example, the third element by doing `name_list[2:]`. Try getting all the letters in your name starting from the second letter in your name."
   ]
  },
  {
   "cell_type": "code",
   "execution_count": 2,
   "id": "70a68040",
   "metadata": {},
   "outputs": [],
   "source": [
    "# Get every letter in your name starting from the second letter in your name"
   ]
  },
  {
   "cell_type": "markdown",
   "id": "cc695c44",
   "metadata": {},
   "source": [
    "### Give me everything up to\n",
    "\n",
    "In the opposite case, you can get every element of a list up to (but not including) an element by putting the index of the element you want everything up to after the colon, like so: `name_list[:5]` gives me all the letters of my name, up to (but not including) the sixth letter in my name. Try getting all the letters in your name up to but not including the tenth letter of your name."
   ]
  },
  {
   "cell_type": "code",
   "execution_count": 3,
   "id": "48be7a52",
   "metadata": {},
   "outputs": [],
   "source": [
    "# Get every letter in your name up to the tenth letter in your name with slicing"
   ]
  },
  {
   "cell_type": "markdown",
   "id": "bff25854",
   "metadata": {},
   "source": [
    "### Give me everything starting from and up to\n",
    "\n",
    "You can combine the above two statements to get a range of elements in a list. Try getting the letters in your name starting from the second letter in your name up to (but not including) the fourth letter of your name."
   ]
  },
  {
   "cell_type": "code",
   "execution_count": null,
   "id": "1979e9f5",
   "metadata": {},
   "outputs": [],
   "source": [
    "# Get every letter in your name starting from the second letter up to tenth letter with slicing"
   ]
  },
  {
   "cell_type": "code",
   "execution_count": null,
   "id": "dd2825dd",
   "metadata": {},
   "outputs": [],
   "source": []
  },
  {
   "cell_type": "markdown",
   "id": "3e2b32bc",
   "metadata": {},
   "source": [
    "# Python packages\n",
    "\n",
    "\n",
    "We do specialized tasks in Python with <b>package</b>. A package is a collection of Python functions that someone wrote and bundled together for you to use. Some of the Python packages that we'll learn to use include: \n",
    "\n",
    "| Package | Uses                     |\n",
    "|---------|--------------------------|\n",
    "| `numpy` | Math with arrays (more on this below) | \n",
    "| `scipy` | A math toolkit built for use by scientists | \n",
    "| `matplotlib` | Visualization (plotting!) | \n",
    "| `astropy` | Astronomy-specific functions of all kinds | \n",
    "\n",
    "## Numpy\n",
    "\n",
    "Numpy is the most important package that we're going to teach you about, because it allows you to do calculations very quickly with Python. Below, we'll discover why it's useful.\n",
    "\n",
    "*** \n",
    "\n",
    "Let's say you want to take the _sine_ or _cosine_ of an angle. There are numpy function that do this for you. \n",
    "\n",
    "To gain access to numpy's functions, you always need to do this command first: \n",
    "```python\n",
    "import numpy as np\n",
    "```\n",
    "Run the line above in the cell below: "
   ]
  },
  {
   "cell_type": "code",
   "execution_count": 35,
   "id": "bdcfb9f2",
   "metadata": {},
   "outputs": [],
   "source": [
    "import numpy as np"
   ]
  },
  {
   "cell_type": "markdown",
   "id": "c47966e9",
   "metadata": {},
   "source": [
    "Now there's a _package_ stored in the variable called `np` that we can access anywhere in this notebook. There are <b>functions</b> for $\\sin$ and $\\cos$ that live within numpy. The way to access a function within a package is by calling the package name with a period after it, then the name of the function you want. So for $\\sin$, you can do: \n",
    "```python\n",
    "np.sin(0)\n",
    "```\n",
    "The `np.` part says \"give me this function from numpy\". The `sin()` part says \"the function that I want to use is $\\sin$\", and the `0` is the angle that we want to take the $\\sin$ of, in units of radians."
   ]
  },
  {
   "cell_type": "code",
   "execution_count": 38,
   "id": "c65e83a1",
   "metadata": {},
   "outputs": [
    {
     "data": {
      "text/plain": [
       "1.0"
      ]
     },
     "execution_count": 38,
     "metadata": {},
     "output_type": "execute_result"
    }
   ],
   "source": [
    "np.cos(0)"
   ]
  },
  {
   "cell_type": "markdown",
   "id": "39926a35",
   "metadata": {},
   "source": [
    "Numpy also has some built-in numbers that you might use. For example, $\\pi$ is stored (to high precision!), in `np.pi`. Print out numpy's $\\pi$ in the cell below: "
   ]
  },
  {
   "cell_type": "code",
   "execution_count": 39,
   "id": "5cb7359b",
   "metadata": {},
   "outputs": [
    {
     "data": {
      "text/plain": [
       "3.141592653589793"
      ]
     },
     "execution_count": 39,
     "metadata": {},
     "output_type": "execute_result"
    }
   ],
   "source": [
    "np.pi"
   ]
  },
  {
   "cell_type": "markdown",
   "id": "d301abb4",
   "metadata": {},
   "source": [
    "Now let's say you had a list of angles, like `angles`$= [0, \\pi/2, \\pi, 3\\pi/2, 2\\pi]$. You could call `np.sin(angles[0])` to get the $\\sin$ of the first angle, then `np.sin(angles[1])` on the second angle, etc. But that would be a really slow way to do it! \n",
    "\n",
    "### Arrays\n",
    "\n",
    "The quick way is to create a <b>numpy array</b>. A numpy array is a vector or matrix of numbers, similar to the built in Python lists we saw in the last lesson. ```numpy``` can act on arrays more efficiently than Python can with ordinary lists.\n",
    "\n",
    "Let's make a numpy array filled with the angles above:\n",
    "```python\n",
    "# First, here's the list that we want to have an array of: \n",
    "angle_list = [0, 1/2 * np.pi, np.pi, 3/2 * np.pi, 2 * np.pi]\n",
    "\n",
    "# Here's how we make a numpy array out of the list\n",
    "angle_array = np.array(angle_list)\n",
    "```\n",
    "Write out those lines in the cell below. "
   ]
  },
  {
   "cell_type": "code",
   "execution_count": 41,
   "id": "1dbf4717",
   "metadata": {},
   "outputs": [
    {
     "name": "stdout",
     "output_type": "stream",
     "text": [
      "[0, 1.5707963267948966, 3.141592653589793, 4.71238898038469, 6.283185307179586]\n"
     ]
    }
   ],
   "source": [
    "angle_list = [0, np.pi/2, np.pi, 3*np.pi/2, 2*np.pi]\n",
    "print(angle_list)"
   ]
  },
  {
   "cell_type": "code",
   "execution_count": 43,
   "id": "63beba05",
   "metadata": {},
   "outputs": [
    {
     "name": "stdout",
     "output_type": "stream",
     "text": [
      "[0.         1.57079633 3.14159265 4.71238898 6.28318531]\n"
     ]
    }
   ],
   "source": [
    "angle_array = np.array(angle_list)\n",
    "print(angle_array)"
   ]
  },
  {
   "cell_type": "code",
   "execution_count": 48,
   "id": "890d1f19",
   "metadata": {},
   "outputs": [
    {
     "data": {
      "text/plain": [
       "array([2.        , 3.57079633, 5.14159265, 6.71238898, 8.28318531])"
      ]
     },
     "execution_count": 48,
     "metadata": {},
     "output_type": "execute_result"
    }
   ],
   "source": [
    "angle_array + 2"
   ]
  },
  {
   "cell_type": "code",
   "execution_count": 49,
   "id": "57318835",
   "metadata": {},
   "outputs": [
    {
     "name": "stdout",
     "output_type": "stream",
     "text": [
      "<class 'list'>\n"
     ]
    }
   ],
   "source": [
    "print(type(angle_list))"
   ]
  },
  {
   "cell_type": "code",
   "execution_count": 50,
   "id": "d647d086",
   "metadata": {},
   "outputs": [
    {
     "name": "stdout",
     "output_type": "stream",
     "text": [
      "<class 'numpy.ndarray'>\n"
     ]
    }
   ],
   "source": [
    "print(type(angle_array))"
   ]
  },
  {
   "cell_type": "code",
   "execution_count": 51,
   "id": "6c625178",
   "metadata": {},
   "outputs": [
    {
     "name": "stdout",
     "output_type": "stream",
     "text": [
      "5\n"
     ]
    }
   ],
   "source": [
    "print(len(angle_array))"
   ]
  },
  {
   "cell_type": "code",
   "execution_count": 52,
   "id": "fa117c7c",
   "metadata": {},
   "outputs": [
    {
     "name": "stdout",
     "output_type": "stream",
     "text": [
      "3.141592653589793\n"
     ]
    }
   ],
   "source": [
    "print( angle_array[2] )"
   ]
  },
  {
   "cell_type": "code",
   "execution_count": 53,
   "id": "105f1b29",
   "metadata": {},
   "outputs": [
    {
     "name": "stdout",
     "output_type": "stream",
     "text": [
      "[ 0.          3.14159265  6.28318531  9.42477796 12.56637061]\n"
     ]
    }
   ],
   "source": [
    "print( angle_array * 2 )"
   ]
  },
  {
   "cell_type": "markdown",
   "id": "f3ae5a21",
   "metadata": {},
   "source": [
    "Let's break down the command `np.array(angle_list)`. The `np.` says we're going to use a function from numpy, the `array()` says we're going to make an array out of the thing in the parentheses, and the `angle_list` is the _input_ or the <b>argument</b> of the function.\n",
    "\n",
    "The reason you want to put your data into an array, is because it's much easier to do math with arrays than with lists, for example:"
   ]
  },
  {
   "cell_type": "code",
   "execution_count": null,
   "id": "1f2adb42",
   "metadata": {},
   "outputs": [],
   "source": [
    "print(angle_list / 2)"
   ]
  },
  {
   "cell_type": "code",
   "execution_count": null,
   "id": "8fc055e9",
   "metadata": {},
   "outputs": [],
   "source": [
    "print(angle_array / 2)"
   ]
  },
  {
   "cell_type": "markdown",
   "id": "8b65fc80",
   "metadata": {},
   "source": [
    "### Example 4: Calculations with arrays\n",
    "\n",
    "What is the $\\sin$ and $\\cos$ of each angle? Use the numpy array `angle_array` as the argument to the `np.sin` and `np.cos` functions in the cell below:"
   ]
  },
  {
   "cell_type": "code",
   "execution_count": 54,
   "id": "69f61f87",
   "metadata": {},
   "outputs": [
    {
     "name": "stdout",
     "output_type": "stream",
     "text": [
      "[0.         1.57079633 3.14159265 4.71238898 6.28318531]\n"
     ]
    }
   ],
   "source": [
    "print(angle_array)"
   ]
  },
  {
   "cell_type": "code",
   "execution_count": 57,
   "id": "6a5f0b9e",
   "metadata": {},
   "outputs": [
    {
     "data": {
      "text/plain": [
       "array([ 1.0000000e+00,  6.1232340e-17, -1.0000000e+00, -1.8369702e-16,\n",
       "        1.0000000e+00])"
      ]
     },
     "execution_count": 57,
     "metadata": {},
     "output_type": "execute_result"
    }
   ],
   "source": [
    "np.cos( angle_array )"
   ]
  },
  {
   "cell_type": "markdown",
   "id": "23361299",
   "metadata": {},
   "source": [
    "Now you might be saying - wait a minute, $\\sin(3\\pi/2) = 0$, not $\\approx$`1e-16`, what's that about? The short answer is - computers often get very very close to approximating the numbers that we actually want, but not all of the way there. You can get better precision if you tell the computer to use more memory. "
   ]
  },
  {
   "cell_type": "markdown",
   "id": "4f6e35f6",
   "metadata": {},
   "source": [
    "## More numpy commands\n",
    "\n",
    "Now you can do things with the numpy array that you couldn't do with a Python list. \n",
    "```python\n",
    "# Sum of all elements in the array:\n",
    "np.sum(angle_array)\n",
    "\n",
    "# Mean of all elements in the array:\n",
    "np.mean(angle_array)\n",
    "\n",
    "# Maximum of the elements in the array:\n",
    "np.max(angle_array)\n",
    "\n",
    "# Minimum of the elements in the array: \n",
    "np.min(angle_array)\n",
    "\n",
    "# Standard deviation of the elements in the array: \n",
    "np.std(angle_array)\n",
    "```\n",
    "Try running each of the above commands one-by-one in the cell below to see what they output."
   ]
  },
  {
   "cell_type": "code",
   "execution_count": null,
   "id": "c825a746",
   "metadata": {},
   "outputs": [],
   "source": []
  },
  {
   "cell_type": "markdown",
   "id": "a27a0b35",
   "metadata": {},
   "source": [
    "### Syntax Tips and Help ###\n",
    "So what happens when you forget the name of a `numpy` function, or the how to use a particular function? `Jupyter` has some cool built-in features that you should take advantage of!\n",
    "\n",
    "For example, say you forgot the name of the `sum` function -- you can type `np.` and then press `tab`, and you'll see that the notebook lists what functions are available in `numpy`! Spoiler alert, it's a loooong list since `numpy` has many functionalities. \n",
    "\n",
    "The point is you can use the `tab` tool (recall tab completion trick) to help you remember or recognize the function you're looking for. \n",
    "\n",
    "Just like how in `bash` environments you can read details on how to use a function with `man FUNCTIONNAME`, you can do that in `Python` as well. For example, say you forgot how to use the `np.sin` function -- you can type `np.sin?` + `Ctrl`+`return` and the notebook will return an inline window that tells you almost everything you need to know about the function. \n",
    "\n",
    "Try playing around with `np.` + `tab` and `np.cos?`, or any function with a `?` at the end, below."
   ]
  },
  {
   "cell_type": "code",
   "execution_count": null,
   "id": "04e756a3",
   "metadata": {},
   "outputs": [],
   "source": []
  },
  {
   "cell_type": "markdown",
   "id": "cac1d285",
   "metadata": {},
   "source": [
    "## Array arithmetic\n",
    "\n",
    "There are lots of situations where you'll want to create a certain kind of array, and numpy has functions to help. \n",
    "\n",
    "You can make an array of consecutive integers from zero to nine with the function `np.arange`:\n",
    "```python\n",
    "consecutive_integers = np.arange(10)\n",
    "```\n",
    "Just like with indexing to some endpoint, you tell python what number you want it to stop before."
   ]
  },
  {
   "cell_type": "code",
   "execution_count": null,
   "id": "0e8788a9",
   "metadata": {},
   "outputs": [],
   "source": []
  },
  {
   "cell_type": "markdown",
   "id": "3891ae9b",
   "metadata": {},
   "source": [
    "Check it out, numpy did all the work for me, I didn't have to write down all the integers.\n",
    "\n",
    "Now, this function is very flexible. You can give it 3 <b>arguments</b> instead of 1 and those 3 numbers will signify `np.arange(start, stop, step)`. For example, `np.arange(1, 9, 2)` would start at 1, stop before 9, with a step size of 2 (giving you every second number), so it would return `[1, 3, 5, 7]"
   ]
  },
  {
   "cell_type": "code",
   "execution_count": null,
   "id": "73324e4e",
   "metadata": {},
   "outputs": [],
   "source": []
  }
 ],
 "metadata": {
  "kernelspec": {
   "display_name": "Python 3 (ipykernel)",
   "language": "python",
   "name": "python3"
  },
  "language_info": {
   "codemirror_mode": {
    "name": "ipython",
    "version": 3
   },
   "file_extension": ".py",
   "mimetype": "text/x-python",
   "name": "python",
   "nbconvert_exporter": "python",
   "pygments_lexer": "ipython3",
   "version": "3.8.10"
  }
 },
 "nbformat": 4,
 "nbformat_minor": 5
}
