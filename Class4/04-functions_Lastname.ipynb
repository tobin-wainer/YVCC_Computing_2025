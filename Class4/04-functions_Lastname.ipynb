{
 "cells": [
  {
   "cell_type": "markdown",
   "metadata": {},
   "source": [
    "# Functions\n",
    "\n",
    "\n",
    "Functions are kind of like variables, they are a box with a name that contains instructions on how to do something. You can also think of the instructions inside of a function like a blueprint for a machine, and when you use that function the computer reads the blueprint and \"builds\" that machine.\n",
    "\n",
    "When talking about functions we will talk a lot about inputs and outputs. Inputs are the things that a function will work with. The outputs are what the function gives you back after working with the inputs. You can think of a function like a cake recipe, where the inputs are the ingredients (milk, eggs, etc.) and the output in this case would be the cake itself!"
   ]
  },
  {
   "cell_type": "markdown",
   "metadata": {},
   "source": [
    "## Vocabulary\n",
    "\n",
    "<ul>\n",
    "    <li>Arguments</li>\n",
    "    <li>Keyword Arguments</li>\n",
    "    <li>Define</li>\n",
    "    <li>Docstring</li>\n",
    "    <li>Scope</li>\n",
    "    <li>Type</li>\n",
    "</ul>"
   ]
  },
  {
   "cell_type": "markdown",
   "metadata": {
    "collapsed": true,
    "jupyter": {
     "outputs_hidden": true
    }
   },
   "source": [
    "## Anatomy of a Function\n",
    "\n",
    "Functions in python have the following form: \n",
    "```python \n",
    "def function_name(argument_1, argument_2,..., keyword_argument_1=val1, keyword_argument_2=val2, ...):\n",
    "    insert code here\n",
    "    return result\n",
    "```\n",
    "\n"
   ]
  },
  {
   "cell_type": "markdown",
   "metadata": {},
   "source": [
    "Where `argument_1` and `argument_2` are \"arguments\" and are required in the function call, and `keyword_argument_1` and `keyword_argument_2` are called \"keyword arguments\" and are optional in the function call.\n",
    "\n",
    "The names of python functions can be any combination of lowercase letters, numbers and underscores as long as they don't start with a number, and as long as they are not already the name of a built-in keyword (i.e. `print`). Let's look at a very simple example of a function:"
   ]
  },
  {
   "cell_type": "markdown",
   "metadata": {},
   "source": [
    "## Working with functions\n",
    "\n",
    "When you write out a function like above, you are <b>defining</b> the function. Actually using that function is known as <b>calling</b> the function.\n",
    "\n",
    "Let's first define a function and then see how we call it."
   ]
  },
  {
   "cell_type": "markdown",
   "metadata": {},
   "source": [
    "### First example: defining an `add` function\n",
    "\n",
    "Let's start with a simple function, run the code cell below: "
   ]
  },
  {
   "cell_type": "code",
   "execution_count": null,
   "metadata": {},
   "outputs": [],
   "source": [
    "def add(x, y):\n",
    "    print(x)\n",
    "    return x + y"
   ]
  },
  {
   "cell_type": "markdown",
   "metadata": {},
   "source": [
    "Notice that when you run this code cell it doesn't actually do anything. That's because you didn't call the function, you just defined it. Now python sees the variable ```add``` as a box containing instructions.\n",
    "\n",
    "This function adds the argument `x` to the argument `y`. You indicate that you're _defining_ a function with the `def` statement, then comes the name of the function, then (no spaces here) comes parentheses containing the arguments.\n",
    "\n",
    "The arguments `x` and `y` are symbols -- a user could call the function on variables that they define, which need not be called `x` and `y`. Here, they just define that within the function, you will refer to the first argument as `x` and the second as `y`.\n",
    "\n",
    "The `return` line needs to be indented with respect to the `def` line. Next to the word `return`, you write the result that you want the function to output. Python functions will usually have something that they `return`, this is called the `output` of the function."
   ]
  },
  {
   "cell_type": "markdown",
   "metadata": {},
   "source": [
    "### Calling the ```add``` function"
   ]
  },
  {
   "cell_type": "markdown",
   "metadata": {},
   "source": [
    "Python treats a function's name somewhat similarly to a variable. Let's see what happens if we just type the function's name below."
   ]
  },
  {
   "cell_type": "code",
   "execution_count": null,
   "metadata": {},
   "outputs": [],
   "source": []
  },
  {
   "cell_type": "markdown",
   "metadata": {},
   "source": [
    "Note that this is not a function call. We have not actually run the function, here python is just saying \"yes, that function does exist.\" We're not running the function because we're not giving it any inputs, any arguments.\n",
    "\n",
    "What happens if we type a function's name that hasn't been defined? What do you see when you type ```subtract``` in the code cell below?"
   ]
  },
  {
   "cell_type": "code",
   "execution_count": null,
   "metadata": {},
   "outputs": [],
   "source": []
  },
  {
   "cell_type": "markdown",
   "metadata": {},
   "source": [
    "We can also print the function itself"
   ]
  },
  {
   "cell_type": "code",
   "execution_count": null,
   "metadata": {},
   "outputs": [],
   "source": [
    "print(add)"
   ]
  },
  {
   "cell_type": "markdown",
   "metadata": {},
   "source": [
    "This actually tells us where the function is in the computer's memory! Whenever you see a weird-looking bunch of numbers and letters that start with an \"0x\" your computer is probably talking about locations in its own memory.\n",
    "\n",
    "Now, let's try running the function with an argument. What do you think will happen if we run the code block below?"
   ]
  },
  {
   "cell_type": "code",
   "execution_count": null,
   "metadata": {},
   "outputs": [],
   "source": [
    "add(1)"
   ]
  },
  {
   "cell_type": "markdown",
   "metadata": {},
   "source": [
    "Now, I know python errors can be very scary, but at least this one is somewhat readable. This error is telling us that we are missing a required argument called \"y\". Note that when we defined the ```add``` function, we called one of the arguments (the second one) ```y```. So this error is really saying \"hey, this function expects 2 arguments and you only gave it 1\".\n",
    "\n",
    "Let's give the function a second argument."
   ]
  },
  {
   "cell_type": "code",
   "execution_count": null,
   "metadata": {},
   "outputs": [],
   "source": []
  },
  {
   "cell_type": "markdown",
   "metadata": {},
   "source": [
    "Everytime you type the function's name with parentheses and the necessary arguments, you are calling the function.\n",
    "\n",
    "When python sees that you are calling a function, it will see the result of that function call as the output of the function. In this case when Python sees ```add(1,3)``` it treats that as ```4```.\n",
    "\n",
    "This is why functions usually must have a ```return``` statement, because python usually needs to know how to treat a function's outputs in code."
   ]
  },
  {
   "cell_type": "markdown",
   "metadata": {},
   "source": [
    "## Exercise 1: Defining and calling a multiply function\n",
    "\n",
    "In the cell below define a function called ```multiply``` that will multiply two numbers together. In the cell below that one, call your function with two arguments (pick any two numbers you want to multiply together)."
   ]
  },
  {
   "cell_type": "code",
   "execution_count": null,
   "metadata": {},
   "outputs": [],
   "source": [
    "# Define the function"
   ]
  },
  {
   "cell_type": "code",
   "execution_count": null,
   "metadata": {},
   "outputs": [],
   "source": [
    "# Call the function"
   ]
  },
  {
   "cell_type": "markdown",
   "metadata": {},
   "source": [
    "## Functions and Types\n",
    "\n",
    "Let's do something silly with our function, run the code block below, what result do you see?"
   ]
  },
  {
   "cell_type": "code",
   "execution_count": null,
   "metadata": {},
   "outputs": [],
   "source": [
    "print( add(1, \"3\") )"
   ]
  },
  {
   "cell_type": "markdown",
   "metadata": {},
   "source": [
    "This kind of error is known as a TypeError. Python knows how to work with variables based on their <b>type</b>. You can find out the type of a variable by using the type function in python:\n",
    "\n",
    "```python\n",
    "type(5)\n",
    "```"
   ]
  },
  {
   "cell_type": "markdown",
   "metadata": {},
   "source": [
    "Run the code cells below, what types do you see?"
   ]
  },
  {
   "cell_type": "code",
   "execution_count": null,
   "metadata": {},
   "outputs": [],
   "source": [
    "print( type(4) )"
   ]
  },
  {
   "cell_type": "code",
   "execution_count": null,
   "metadata": {},
   "outputs": [],
   "source": [
    "print( type(4.0) )"
   ]
  },
  {
   "cell_type": "code",
   "execution_count": null,
   "metadata": {},
   "outputs": [],
   "source": [
    "print( type('4.0') )"
   ]
  },
  {
   "cell_type": "code",
   "execution_count": null,
   "metadata": {},
   "outputs": [],
   "source": [
    "print( type(add) )"
   ]
  },
  {
   "cell_type": "markdown",
   "metadata": {},
   "source": [
    "To clarify what types of variables we expect a function to work with (i.e., what are the types of its arguments), we can include a <b>docstring</b>. A docstring is also known as documentation, and is basically information for anyone using the function. A docstring will not be read by the function or the computer when calling the function, it is essentially a fancy way to add comments to your function for future-you and anyone else who might use the function.\n",
    "\n",
    "Below, we've defined the ```add``` function, but with a docstring included."
   ]
  },
  {
   "cell_type": "code",
   "execution_count": null,
   "metadata": {},
   "outputs": [],
   "source": [
    "def add(x, y):\n",
    "    \"\"\"\n",
    "    This function adds x to y.\n",
    "    x: a float or int\n",
    "    y: a float or int\n",
    "    \n",
    "    result: a float or int\n",
    "    \"\"\"\n",
    "    \n",
    "    return x+y"
   ]
  },
  {
   "cell_type": "markdown",
   "metadata": {},
   "source": [
    "The docstring is fundamental to designing a function. Most of the time, you won't just write a function, you step back and think about what you need the computer to do, what you're going to give the function to work with, and what you expect to get back from that function."
   ]
  },
  {
   "cell_type": "markdown",
   "metadata": {},
   "source": [
    "## Exercise 2: Adding a docstring to ```multiply```\n",
    "\n",
    "In the code cell below, rewrite the ```multiply``` function you defined in exercise 1, but this time include a docstring that describes what the ```multiply``` function does, and the types of its arguments and result."
   ]
  },
  {
   "cell_type": "code",
   "execution_count": null,
   "metadata": {},
   "outputs": [],
   "source": []
  },
  {
   "cell_type": "markdown",
   "metadata": {},
   "source": [
    "# Function scopes (you can only use stuff that's ```return```'d)"
   ]
  },
  {
   "cell_type": "markdown",
   "metadata": {},
   "source": [
    "It's important to understand that the variables we use to define our arguments in our function definition are not accesible outside of the function. Consider a modified version of our ```add``` function that's defined below."
   ]
  },
  {
   "cell_type": "code",
   "execution_count": null,
   "metadata": {},
   "outputs": [],
   "source": [
    "def add(x, y):\n",
    "    \"\"\"This function adds x to y.\n",
    "    x: a float or int\n",
    "    y: a float or int\n",
    "    \"\"\"\n",
    "    z = 5\n",
    "    return x+y"
   ]
  },
  {
   "cell_type": "markdown",
   "metadata": {},
   "source": [
    "We can call the function just like before."
   ]
  },
  {
   "cell_type": "code",
   "execution_count": null,
   "metadata": {},
   "outputs": [],
   "source": [
    "print( add(2,3) )"
   ]
  },
  {
   "cell_type": "markdown",
   "metadata": {},
   "source": [
    "But check out what happens if we try to ```print(x)```"
   ]
  },
  {
   "cell_type": "code",
   "execution_count": null,
   "metadata": {},
   "outputs": [],
   "source": [
    "print( add(2,3) )\n",
    "\n",
    "x = 2\n",
    "\n",
    "print(x)"
   ]
  },
  {
   "cell_type": "markdown",
   "metadata": {},
   "source": [
    "The same thing happens if you try to print y, or z."
   ]
  },
  {
   "cell_type": "code",
   "execution_count": null,
   "metadata": {},
   "outputs": [],
   "source": [
    "print(y)"
   ]
  },
  {
   "cell_type": "code",
   "execution_count": null,
   "metadata": {},
   "outputs": [],
   "source": [
    "print(z)"
   ]
  },
  {
   "cell_type": "markdown",
   "metadata": {},
   "source": [
    "This is because the variables ```x```, ```y```, and ```z``` only exist meaningfully in the function. You can think about it as when the computer runs the function it creates these variables temporarily and then erases them when it's done running the function. The concept that you can't access a variable that is defined inside a function is called <b>scope</b>."
   ]
  },
  {
   "cell_type": "markdown",
   "metadata": {},
   "source": [
    "We can however define some variables outside of the function, use them in a function definition or call, and still access them outside of the function. For example:"
   ]
  },
  {
   "cell_type": "code",
   "execution_count": null,
   "metadata": {},
   "outputs": [],
   "source": [
    "a = 5\n",
    "b = 10\n",
    "\n",
    "a_plus_b = add(a, b)\n",
    "\n",
    "print(a)\n",
    "print(b)\n",
    "print(a_plus_b)"
   ]
  },
  {
   "cell_type": "markdown",
   "metadata": {},
   "source": [
    "Because ```a``` and ```b``` were defined outside of the function their <b>scope</b> is outside of the function."
   ]
  },
  {
   "cell_type": "markdown",
   "metadata": {},
   "source": [
    "## Exercise 3: Understanding a function by using it\n",
    "\n",
    "Oftentimes you will be asked to use a function that has already been defined. Sometimes it is helpful to \"get a feel\" for that function by running it a few times with different inputs, and seeing how it behaves with different inputs. \n",
    "\n",
    "Look at the function definition below, try running it with different arguments in code cells below (insert more code cells if you want to try more numbers) and when you think you have a good idea of what it does, write your understanding in the text cell at the bottom."
   ]
  },
  {
   "cell_type": "code",
   "execution_count": null,
   "metadata": {},
   "outputs": [],
   "source": [
    "def dragon_battle(dice_roll):\n",
    "    \"\"\"This function returns the result of an attempted attack on a dragon, given some dice_roll.\n",
    "    \n",
    "    dice_roll: An integer representing the number shown on a die\n",
    "    result: A string representing the game's output given a dice roll\n",
    "    \"\"\"\n",
    "    \n",
    "    print(\"You come across a dragon and strike with your mighty blade\")\n",
    "    print(\"You roll a \", dice_roll)\n",
    "\n",
    "    if dice_roll > 10:\n",
    "        result = \"You succeed and slay the dragon!\"\n",
    "        \n",
    "    if dice_roll == 10:\n",
    "        result = \"You graze its scales, but the dragon survives!\"\n",
    "        \n",
    "    if dice_roll < 10:\n",
    "        result = \"You fail and are roasted by its fire breath!\"\n",
    "\n",
    "    return result"
   ]
  },
  {
   "cell_type": "code",
   "execution_count": null,
   "metadata": {},
   "outputs": [],
   "source": []
  },
  {
   "cell_type": "code",
   "execution_count": null,
   "metadata": {},
   "outputs": [],
   "source": []
  },
  {
   "cell_type": "code",
   "execution_count": null,
   "metadata": {},
   "outputs": [],
   "source": []
  },
  {
   "cell_type": "code",
   "execution_count": null,
   "metadata": {},
   "outputs": [],
   "source": []
  },
  {
   "cell_type": "code",
   "execution_count": null,
   "metadata": {},
   "outputs": [],
   "source": []
  },
  {
   "cell_type": "markdown",
   "metadata": {},
   "source": []
  }
 ],
 "metadata": {
  "anaconda-cloud": {},
  "kernelspec": {
   "display_name": "Python 3 (ipykernel)",
   "language": "python",
   "name": "python3"
  },
  "language_info": {
   "codemirror_mode": {
    "name": "ipython",
    "version": 3
   },
   "file_extension": ".py",
   "mimetype": "text/x-python",
   "name": "python",
   "nbconvert_exporter": "python",
   "pygments_lexer": "ipython3",
   "version": "3.8.10"
  }
 },
 "nbformat": 4,
 "nbformat_minor": 4
}
